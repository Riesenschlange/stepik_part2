{
 "cells": [
  {
   "cell_type": "markdown",
   "metadata": {},
   "source": [
    "IP адрес состоит из четырех чисел из диапазона от 0 до 255 (включительно), разделенных точкой.\n",
    "Напишите функцию generate_ip(), которая с помощью модуля random генерирует и возвращает случайный корректный IP адрес."
   ]
  },
  {
   "cell_type": "code",
   "execution_count": 3,
   "metadata": {},
   "outputs": [],
   "source": [
    "from random import randint, choice, shuffle\n",
    "import string\n",
    "def generate_ip():\n",
    "    numbers_for_ip = []\n",
    "    while len(numbers_for_ip) != 4:\n",
    "        numbers_for_ip.append(randint(0, 255))\n",
    "    numbers_for_ip = [str(num) for num in numbers_for_ip]\n",
    "    ip = \".\".join(numbers_for_ip)\n",
    "    return(ip)\n",
    "# print(generate_ip())"
   ]
  },
  {
   "cell_type": "markdown",
   "metadata": {},
   "source": [
    "Почтовый индекс в Латверии имеет вид: \n",
    "LetterLetterNumber_NumberLetterLetter, где Letter – заглавная буква английского алфавита, Number – число от 0 до 99 (включительно).\n",
    "\n",
    "Напишите функцию generate_index(), которая с помощью модуля random генерирует и возвращает случайный корректный почтовый индекс Латверии.\n",
    "\n",
    "Примечание 1. Обратите внимание на символ _ в почтовом индексе.\n",
    "\n",
    "Примечание 2. Вызывать функцию generate_index() не нужно, требуется только реализовать."
   ]
  },
  {
   "cell_type": "code",
   "execution_count": 4,
   "metadata": {},
   "outputs": [],
   "source": [
    "def generate_index():\n",
    "    letters = string.ascii_uppercase\n",
    "    return f'{choice(letters)}{choice(letters)}{randint(0, 99)}_{randint(0, 99)}{choice(letters)}{choice(letters)}'\n",
    "# generate_index()"
   ]
  },
  {
   "cell_type": "markdown",
   "metadata": {},
   "source": [
    "Напишите программу, которая с помощью модуля random перемешивает случайным образом содержимое матрицы (двумерного списка). Выводить содержимое матрицы не нужно."
   ]
  },
  {
   "cell_type": "code",
   "execution_count": 5,
   "metadata": {},
   "outputs": [],
   "source": [
    "matrix = [[1, 2, 3, 4],\n",
    "          [5, 6, 7, 8],\n",
    "          [9, 10, 11, 12],\n",
    "          [13, 14, 15, 16]]\n",
    "shuffle(matrix)\n",
    "# print(matrix)"
   ]
  },
  {
   "cell_type": "markdown",
   "metadata": {},
   "source": [
    "Напишите программу, которая с помощью модуля random генерирует 100 случайных номеров лотерейных билетов и выводит их каждый на отдельной строке. Обратите внимание, вы должны придерживаться следующих условий:\n",
    "- номер не может начинаться с нулей;\n",
    "- номер лотерейного билета должен состоять из 7 цифр;\n",
    "- все 100 лотерейных билетов должны быть различными."
   ]
  },
  {
   "cell_type": "code",
   "execution_count": null,
   "metadata": {},
   "outputs": [],
   "source": [
    "lottery_tickets = []\n",
    "n = 100\n",
    "for _ in range (n):\n",
    "    ticket = randint(1000000, 9999999)\n",
    "    if ticket in lottery_tickets:\n",
    "        n += 1\n",
    "        continue\n",
    "    else:\n",
    "        lottery_tickets.append(ticket)\n",
    "for ticket in lottery_tickets:\n",
    "    print(ticket)"
   ]
  },
  {
   "cell_type": "markdown",
   "metadata": {},
   "source": [
    "Анаграмма – это слово, образованное путём перестановки букв, составляющих другое слово.\n",
    "\n",
    "Например, слова \"пила\" и \"липа\" или \"пост\" и \"стоп\" – анаграммы.\n",
    "\n",
    "Напишите программу, которая считывает одно слово и выводит с помощью модуля random его случайную анаграмму.\n",
    "\n",
    "Примечание. Обратите внимание на то, что метод shuffle() работает со списком, а не со строкой."
   ]
  },
  {
   "cell_type": "code",
   "execution_count": 11,
   "metadata": {},
   "outputs": [
    {
     "name": "stdout",
     "output_type": "stream",
     "text": [
      "плиа\n"
     ]
    }
   ],
   "source": [
    "list_for_anagrams = []\n",
    "list_for_anagrams.extend(input())\n",
    "shuffle(list_for_anagrams)\n",
    "anagram = \"\".join(list_for_anagrams)\n",
    "print(anagram)"
   ]
  },
  {
   "cell_type": "markdown",
   "metadata": {},
   "source": [
    "Для игры в бинго требуется карточка размером 5×5, содержащая различные (уникальные) целые числа от 1 до 75 (включительно), при этом центральная клетка является пустой (она заполняется числом 0).\n",
    "\n",
    "Напишите программу, которая с помощью модуля random генерирует и выводит случайную карточку для игры в бинго."
   ]
  },
  {
   "cell_type": "code",
   "execution_count": 21,
   "metadata": {},
   "outputs": [
    {
     "name": "stdout",
     "output_type": "stream",
     "text": [
      "[[35, 10, 26, 20, 26], [1, 18, 12, 41, 32], [11, 17, 49, 7, 44], [9, 49, 11, 25, 17], [20, 35, 12, 6, 15]]\n"
     ]
    }
   ],
   "source": [
    "game_field = list()\n",
    "for i in range (5):\n",
    "    new_line = [randint(1, 74) for _ in range (5)]\n",
    "    game_field.append(new_line)\n",
    "print(game_field)"
   ]
  }
 ],
 "metadata": {
  "kernelspec": {
   "display_name": "my_conda_env",
   "language": "python",
   "name": "python3"
  },
  "language_info": {
   "codemirror_mode": {
    "name": "ipython",
    "version": 3
   },
   "file_extension": ".py",
   "mimetype": "text/x-python",
   "name": "python",
   "nbconvert_exporter": "python",
   "pygments_lexer": "ipython3",
   "version": "3.12.4"
  }
 },
 "nbformat": 4,
 "nbformat_minor": 2
}
