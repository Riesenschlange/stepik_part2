{
 "cells": [
  {
   "cell_type": "code",
   "execution_count": 33,
   "metadata": {},
   "outputs": [],
   "source": [
    "from random import randint, choice, shuffle, sample\n",
    "import string"
   ]
  },
  {
   "cell_type": "markdown",
   "metadata": {},
   "source": [
    "IP адрес состоит из четырех чисел из диапазона от 0 до 255 (включительно), разделенных точкой.\n",
    "Напишите функцию generate_ip(), которая с помощью модуля random генерирует и возвращает случайный корректный IP адрес."
   ]
  },
  {
   "cell_type": "code",
   "execution_count": 28,
   "metadata": {},
   "outputs": [],
   "source": [
    "def generate_ip():\n",
    "    numbers_for_ip = []\n",
    "    while len(numbers_for_ip) != 4:\n",
    "        numbers_for_ip.append(randint(0, 255))\n",
    "    numbers_for_ip = [str(num) for num in numbers_for_ip]\n",
    "    ip = \".\".join(numbers_for_ip)\n",
    "    return(ip)\n",
    "# print(generate_ip())"
   ]
  },
  {
   "cell_type": "markdown",
   "metadata": {},
   "source": [
    "Почтовый индекс в Латверии имеет вид: \n",
    "LetterLetterNumber_NumberLetterLetter, где Letter – заглавная буква английского алфавита, Number – число от 0 до 99 (включительно).\n",
    "\n",
    "Напишите функцию generate_index(), которая с помощью модуля random генерирует и возвращает случайный корректный почтовый индекс Латверии.\n",
    "\n",
    "Примечание 1. Обратите внимание на символ _ в почтовом индексе.\n",
    "\n",
    "Примечание 2. Вызывать функцию generate_index() не нужно, требуется только реализовать."
   ]
  },
  {
   "cell_type": "code",
   "execution_count": 4,
   "metadata": {},
   "outputs": [],
   "source": [
    "def generate_index():\n",
    "    letters = string.ascii_uppercase\n",
    "    return f'{choice(letters)}{choice(letters)}{randint(0, 99)}_{randint(0, 99)}{choice(letters)}{choice(letters)}'\n",
    "# generate_index()"
   ]
  },
  {
   "cell_type": "markdown",
   "metadata": {},
   "source": [
    "Напишите программу, которая с помощью модуля random перемешивает случайным образом содержимое матрицы (двумерного списка). Выводить содержимое матрицы не нужно."
   ]
  },
  {
   "cell_type": "code",
   "execution_count": 5,
   "metadata": {},
   "outputs": [],
   "source": [
    "matrix = [[1, 2, 3, 4],\n",
    "          [5, 6, 7, 8],\n",
    "          [9, 10, 11, 12],\n",
    "          [13, 14, 15, 16]]\n",
    "shuffle(matrix)\n",
    "# print(matrix)"
   ]
  },
  {
   "cell_type": "markdown",
   "metadata": {},
   "source": [
    "Напишите программу, которая с помощью модуля random генерирует 100 случайных номеров лотерейных билетов и выводит их каждый на отдельной строке. Обратите внимание, вы должны придерживаться следующих условий:\n",
    "- номер не может начинаться с нулей;\n",
    "- номер лотерейного билета должен состоять из 7 цифр;\n",
    "- все 100 лотерейных билетов должны быть различными."
   ]
  },
  {
   "cell_type": "code",
   "execution_count": 6,
   "metadata": {},
   "outputs": [
    {
     "name": "stdout",
     "output_type": "stream",
     "text": [
      "1377226\n",
      "9230450\n",
      "2958151\n",
      "2482169\n",
      "8653605\n",
      "4417896\n",
      "6165606\n",
      "4668872\n",
      "9309121\n",
      "1516105\n",
      "7232272\n",
      "8954195\n",
      "8678050\n",
      "8539430\n",
      "8929551\n",
      "8069952\n",
      "4559013\n",
      "6718916\n",
      "5290803\n",
      "1479898\n",
      "4726178\n",
      "6727924\n",
      "7910082\n",
      "1570792\n",
      "6600200\n",
      "4523704\n",
      "3906930\n",
      "6511467\n",
      "8397681\n",
      "1384849\n",
      "6263774\n",
      "2225782\n",
      "2009687\n",
      "5711447\n",
      "3754010\n",
      "8538358\n",
      "7660196\n",
      "1070070\n",
      "1086140\n",
      "7897873\n",
      "1500940\n",
      "7153962\n",
      "7577590\n",
      "3583957\n",
      "6293414\n",
      "9287001\n",
      "3809878\n",
      "1085469\n",
      "6162817\n",
      "2410934\n",
      "3312874\n",
      "2388070\n",
      "3506061\n",
      "2103019\n",
      "8641646\n",
      "6649263\n",
      "3086574\n",
      "2849412\n",
      "2742193\n",
      "8379356\n",
      "8896008\n",
      "3534019\n",
      "8137702\n",
      "7188513\n",
      "5948373\n",
      "5987086\n",
      "8726396\n",
      "2023786\n",
      "5037717\n",
      "6673133\n",
      "2936481\n",
      "9789658\n",
      "5160094\n",
      "4353023\n",
      "1359403\n",
      "5613013\n",
      "4288054\n",
      "9091964\n",
      "3031446\n",
      "7560779\n",
      "3737957\n",
      "3789510\n",
      "7092555\n",
      "7752936\n",
      "5073724\n",
      "6432656\n",
      "2340159\n",
      "7225751\n",
      "3682716\n",
      "5809839\n",
      "6392579\n",
      "6944643\n",
      "3242448\n",
      "4174153\n",
      "9101998\n",
      "6245315\n",
      "2829191\n",
      "6280767\n",
      "7023352\n",
      "5130138\n"
     ]
    }
   ],
   "source": [
    "lottery_tickets = []\n",
    "n = 100\n",
    "for _ in range (n):\n",
    "    ticket = randint(1000000, 9999999)\n",
    "    if ticket in lottery_tickets:\n",
    "        n += 1\n",
    "        continue\n",
    "    else:\n",
    "        lottery_tickets.append(ticket)\n",
    "for ticket in lottery_tickets:\n",
    "    print(ticket)"
   ]
  },
  {
   "cell_type": "markdown",
   "metadata": {},
   "source": [
    "Анаграмма – это слово, образованное путём перестановки букв, составляющих другое слово.\n",
    "\n",
    "Например, слова \"пила\" и \"липа\" или \"пост\" и \"стоп\" – анаграммы.\n",
    "\n",
    "Напишите программу, которая считывает одно слово и выводит с помощью модуля random его случайную анаграмму.\n",
    "\n",
    "Примечание. Обратите внимание на то, что метод shuffle() работает со списком, а не со строкой."
   ]
  },
  {
   "cell_type": "code",
   "execution_count": 7,
   "metadata": {},
   "outputs": [
    {
     "name": "stdout",
     "output_type": "stream",
     "text": [
      "fvg\n"
     ]
    }
   ],
   "source": [
    "list_for_anagrams = []\n",
    "list_for_anagrams.extend(input())\n",
    "shuffle(list_for_anagrams)\n",
    "anagram = \"\".join(list_for_anagrams)\n",
    "print(anagram)"
   ]
  },
  {
   "cell_type": "markdown",
   "metadata": {},
   "source": [
    "Для игры в бинго требуется карточка размером 5×5, содержащая различные (уникальные) целые числа от 1 до 75 (включительно), при этом центральная клетка является пустой (она заполняется числом 0).\n",
    "\n",
    "Напишите программу, которая с помощью модуля random генерирует и выводит случайную карточку для игры в бинго."
   ]
  },
  {
   "cell_type": "code",
   "execution_count": 34,
   "metadata": {},
   "outputs": [
    {
     "name": "stdout",
     "output_type": "stream",
     "text": [
      "7  20 3  69 60 \n",
      "31 17 53 43 25 \n",
      "47 36 0  12 21 \n",
      "19 18 55 1  70 \n",
      "48 32 46 56 45 \n"
     ]
    }
   ],
   "source": [
    "my_list = [*range(1, 76)]\n",
    "numbers = sample(my_list, 25)\n",
    "bingo = [[str(numbers.pop()).ljust(3) for _ in range(5)] for _ in range(5)]\n",
    "bingo[2][2] = str(0).ljust(3)\n",
    "for row in bingo:\n",
    "    print(*row, sep = '')"
   ]
  },
  {
   "cell_type": "markdown",
   "metadata": {},
   "source": [
    "## Генератор паролей 1"
   ]
  },
  {
   "cell_type": "code",
   "execution_count": 1,
   "metadata": {},
   "outputs": [],
   "source": [
    "from string import ascii_letters\n",
    "from random import sample"
   ]
  },
  {
   "cell_type": "code",
   "execution_count": 8,
   "metadata": {},
   "outputs": [
    {
     "name": "stdout",
     "output_type": "stream",
     "text": [
      "mCGKdcq\n",
      "TLjusdg\n",
      "rJFgZAM\n",
      "KTFMgfe\n",
      "PzwGbvj\n",
      "wzfbrPh\n",
      "rJXaNcg\n",
      "bVQMFfH\n",
      "UKeCEkA\n"
     ]
    }
   ],
   "source": [
    "n, m = int(input()), int(input())\n",
    "\n",
    "generation_field = list(set(ascii_letters).difference(set(\"lIoO01\")))\n",
    "\n",
    "\n",
    "def generate_passwords(count, length):\n",
    "    passwords = []\n",
    "    for _ in range(count):\n",
    "        new_letter = \"\".join(sample(generation_field, length))\n",
    "        passwords.append(new_letter)\n",
    "\n",
    "    for password in passwords:\n",
    "        print(password)\n",
    "\n",
    "\n",
    "generate_passwords(n, m)"
   ]
  },
  {
   "cell_type": "markdown",
   "metadata": {},
   "source": [
    "## Генератор паролей 2"
   ]
  },
  {
   "cell_type": "code",
   "execution_count": 20,
   "metadata": {},
   "outputs": [
    {
     "name": "stdout",
     "output_type": "stream",
     "text": [
      "5Rc3eFQ\n",
      "g4w7BM9\n",
      "Gn3mRf2\n",
      "eq7Mjkh\n",
      "z3Eyjv8\n",
      "zp3JehV\n",
      "U7tDzxE\n",
      "e4aKWbP\n",
      "unzj6DN\n"
     ]
    }
   ],
   "source": [
    "from string import ascii_letters, digits\n",
    "from random import sample\n",
    "\n",
    "\n",
    "n, m = int(input()), int(input())\n",
    "generation_field = list((set(ascii_letters).union(digits)).difference(set(\"lIoO01\")))\n",
    "\n",
    "\n",
    "def generate_passwords(number, length):\n",
    "    passwords, count = [], 0\n",
    "    while count != number:\n",
    "        new_letter = \"\".join(sample(generation_field, length))\n",
    "        if new_letter.isalpha() or new_letter.isdigit() or new_letter.islower() or new_letter.isupper():\n",
    "            continue\n",
    "        else:\n",
    "            count += 1\n",
    "            passwords.append(new_letter)\n",
    "\n",
    "    for password in passwords:\n",
    "        print(password)\n",
    "\n",
    "\n",
    "generate_passwords(n, m)"
   ]
  },
  {
   "cell_type": "markdown",
   "metadata": {},
   "source": [
    "## Метод Монте-Карло"
   ]
  },
  {
   "cell_type": "code",
   "execution_count": 82,
   "metadata": {},
   "outputs": [
    {
     "name": "stdout",
     "output_type": "stream",
     "text": [
      "0.25\n"
     ]
    }
   ],
   "source": [
    "import random\n",
    "\n",
    "\n",
    "n = 100\n",
    "k = 0\n",
    "s0 = 1\n",
    "for _ in range(n):\n",
    "    x = random.uniform(0, 1)\n",
    "    y = random.uniform(0, 1)\n",
    "    if y <= x**2:\n",
    "        k += 1\n",
    "\n",
    "print((k/n)*s0)"
   ]
  },
  {
   "cell_type": "code",
   "execution_count": 2,
   "metadata": {},
   "outputs": [
    {
     "name": "stdout",
     "output_type": "stream",
     "text": [
      "3.14156\n"
     ]
    }
   ],
   "source": [
    "from random import uniform\n",
    "\n",
    "s0 = 4\n",
    "n = 10**6\n",
    "k = 0\n",
    "for _ in range(n):\n",
    "    x = uniform(-1, 1)\n",
    "    y = uniform(-1, 1)\n",
    "    if x**2 + y**2 <= 1:\n",
    "        k += 1\n",
    "\n",
    "print((k/n) * s0)"
   ]
  },
  {
   "cell_type": "markdown",
   "metadata": {},
   "source": [
    "Decimal числа, разделенные символом пробела, хранятся в строковой переменной s. Дополните приведенный код так, чтобы он вывел сумму наибольшего и наименьшего Decimal числа."
   ]
  },
  {
   "cell_type": "code",
   "execution_count": 9,
   "metadata": {},
   "outputs": [
    {
     "name": "stdout",
     "output_type": "stream",
     "text": [
      "10.00\n"
     ]
    }
   ],
   "source": [
    "from decimal import Decimal as D\n",
    "s = '0.77 4.03 9.06 3.80 7.08 5.88 0.23 4.65 2.79 0.90 4.23 2.15 3.24 8.57 0.10 8.57 1.49 5.64 3.63 8.36 1.56 6.67 1.46 5.26 4.83 7.23 1.22 1.02 7.82 9.97 5.40 9.79 9.82 2.78 2.96 0.07 1.72 7.24 7.84 9.23 1.71 6.24 5.78 5.37 0.03 9.60 8.86 2.73 5.83 6.50'\n",
    "final_s = [D(num) for num in s.split()]\n",
    "print(max(final_s) + min(final_s))"
   ]
  },
  {
   "cell_type": "markdown",
   "metadata": {},
   "source": [
    "Decimal числа, разделенные символом пробела, хранятся в строковой переменной s. Дополните приведенный код так, чтобы он вывел на первой строке сумму всех чисел, а на второй строке 5 самых больших чисел в порядке убывания, разделенных символом пробела."
   ]
  },
  {
   "cell_type": "code",
   "execution_count": 17,
   "metadata": {},
   "outputs": [
    {
     "name": "stdout",
     "output_type": "stream",
     "text": [
      "279.12\n",
      "9.85 9.74 9.73 9.60 9.36 "
     ]
    }
   ],
   "source": [
    "from decimal import Decimal as D\n",
    "s = '9.73 8.84 8.92 9.60 9.32 8.97 8.53 1.26 6.62 9.85 1.85 1.80 0.83 6.75 9.74 9.11 9.14 5.03 5.03 1.34 3.52 8.09 7.89 8.24 8.23 5.22 0.30 2.59 1.25 6.24 2.14 7.54 5.72 2.75 2.32 2.69 9.32 8.11 4.53 0.80 0.08 9.36 5.22 4.08 3.86 5.56 1.43 8.36 6.29 5.13'\n",
    "final_s = [D(num) for num in s.split()]\n",
    "\n",
    "print(sum(final_s))\n",
    "n = 0\n",
    "while n != 5:\n",
    "    print(max(final_s), end=\" \")\n",
    "    final_s.remove(max(final_s))\n",
    "    n += 1\n",
    "\n"
   ]
  },
  {
   "cell_type": "markdown",
   "metadata": {},
   "source": [
    "Дополните приведенный код так, чтобы он вывел сумму наибольшей и наименьшей цифры Decimal числа."
   ]
  },
  {
   "cell_type": "code",
   "execution_count": 28,
   "metadata": {},
   "outputs": [
    {
     "name": "stdout",
     "output_type": "stream",
     "text": [
      "9\n"
     ]
    },
    {
     "data": {
      "text/plain": [
       "DecimalTuple(sign=0, digits=(1, 2, 4, 4, 3, 5, 4, 6, 8, 9), exponent=-10)"
      ]
     },
     "execution_count": 28,
     "metadata": {},
     "output_type": "execute_result"
    }
   ],
   "source": [
    "from decimal import Decimal as D\n",
    "num = D(input())\n",
    "if int(num) == 0:\n",
    "    print(max(num.as_tuple()[1]))\n",
    "else:\n",
    "    print(max(num.as_tuple()[1]) + min(num.as_tuple()[1]))\n",
    "num.as_tuple()"
   ]
  },
  {
   "cell_type": "markdown",
   "metadata": {},
   "source": [
    "# Математическое выражение\n",
    "На вход программе подается Decimal число d. Напишите программу, которая вычисляет значение выражения:\n",
    "e^d+ln(d)+lg(d)+sqrt(d)"
   ]
  },
  {
   "cell_type": "code",
   "execution_count": 37,
   "metadata": {},
   "outputs": [
    {
     "ename": "InvalidOperation",
     "evalue": "[<class 'decimal.ConversionSyntax'>]",
     "output_type": "error",
     "traceback": [
      "\u001b[1;31m---------------------------------------------------------------------------\u001b[0m",
      "\u001b[1;31mInvalidOperation\u001b[0m                          Traceback (most recent call last)",
      "Cell \u001b[1;32mIn[37], line 2\u001b[0m\n\u001b[0;32m      1\u001b[0m \u001b[38;5;28;01mfrom\u001b[39;00m \u001b[38;5;21;01mdecimal\u001b[39;00m \u001b[38;5;28;01mimport\u001b[39;00m \u001b[38;5;241m*\u001b[39m\n\u001b[1;32m----> 2\u001b[0m d \u001b[38;5;241m=\u001b[39m \u001b[43mDecimal\u001b[49m\u001b[43m(\u001b[49m\u001b[38;5;28;43minput\u001b[39;49m\u001b[43m(\u001b[49m\u001b[43m)\u001b[49m\u001b[43m)\u001b[49m\n\u001b[0;32m      3\u001b[0m \u001b[38;5;28mprint\u001b[39m(d\u001b[38;5;241m.\u001b[39mexp() \u001b[38;5;241m+\u001b[39m d\u001b[38;5;241m.\u001b[39mln() \u001b[38;5;241m+\u001b[39m d\u001b[38;5;241m.\u001b[39mlog10() \u001b[38;5;241m+\u001b[39m d\u001b[38;5;241m.\u001b[39msqrt())\n",
      "\u001b[1;31mInvalidOperation\u001b[0m: [<class 'decimal.ConversionSyntax'>]"
     ]
    }
   ],
   "source": [
    "from decimal import *\n",
    "d = Decimal(input())\n",
    "print(d.exp() + d.ln() + d.log10() + d.sqrt())"
   ]
  },
  {
   "cell_type": "markdown",
   "metadata": {},
   "source": [
    "Десятичные числа хранятся в списке numbers в виде строк. Дополните приведенный код так, чтобы он для каждого десятичного числа вывел его представление в виде обыкновенной дроби в формате:\n",
    "<ul>\n",
    "<li>десятичное число = обыкновенная дробь</li>\n",
    "</ul>"
   ]
  },
  {
   "cell_type": "code",
   "execution_count": null,
   "metadata": {},
   "outputs": [],
   "source": [
    "from fractions import Fraction as F\n",
    "\n",
    "numbers = ['6.34', '4.08', '3.04', '7.49', '4.45', '5.39', '7.82', '2.76', '0.71', '1.97', '2.54', '3.67', '0.14', '4.29', '1.84', '4.07', '7.26', '9.37', '8.11', '4.30', '7.16', '2.46', '1.27', '0.29', '5.12', '4.02', '6.95', '1.62', '2.26', '0.45', '6.91', '7.39', '0.52', '1.88', '8.38', '0.75', '0.32', '4.81', '3.31', '4.63', '7.84', '2.25', '1.10', '3.35', '2.05', '7.87', '2.40', '1.20', '2.58', '2.46']\n",
    "\n",
    "fractions = [F(num) for num in numbers]\n",
    "for i in range(len(numbers)):\n",
    "    print(f\"{numbers[i]} = {fractions[i]}\")"
   ]
  }
 ],
 "metadata": {
  "kernelspec": {
   "display_name": "my_conda_env",
   "language": "python",
   "name": "python3"
  },
  "language_info": {
   "codemirror_mode": {
    "name": "ipython",
    "version": 3
   },
   "file_extension": ".py",
   "mimetype": "text/x-python",
   "name": "python",
   "nbconvert_exporter": "python",
   "pygments_lexer": "ipython3",
   "version": "3.12.4"
  }
 },
 "nbformat": 4,
 "nbformat_minor": 2
}
