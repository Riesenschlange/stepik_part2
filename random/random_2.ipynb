{
 "cells": [
  {
   "cell_type": "markdown",
   "metadata": {},
   "source": [
    "IP адрес состоит из четырех чисел из диапазона от 0 до 255 (включительно), разделенных точкой.\n",
    "Напишите функцию generate_ip(), которая с помощью модуля random генерирует и возвращает случайный корректный IP адрес."
   ]
  },
  {
   "cell_type": "code",
   "execution_count": 14,
   "metadata": {},
   "outputs": [
    {
     "name": "stdout",
     "output_type": "stream",
     "text": [
      "82.205.17.213\n"
     ]
    }
   ],
   "source": [
    "from random import randint\n",
    "import string\n",
    "numbers = string.digits\n",
    "def generate_ip():\n",
    "    numbers_for_ip = []\n",
    "    while len(numbers_for_ip) != 4:\n",
    "        numbers_for_ip.append(randint(0, 255))\n",
    "    numbers_for_ip = [str(num) for num in numbers_for_ip]\n",
    "    ip = \".\".join(numbers_for_ip)\n",
    "    return(ip)\n",
    "print(generate_ip())"
   ]
  }
 ],
 "metadata": {
  "kernelspec": {
   "display_name": "my_conda_env",
   "language": "python",
   "name": "python3"
  },
  "language_info": {
   "codemirror_mode": {
    "name": "ipython",
    "version": 3
   },
   "file_extension": ".py",
   "mimetype": "text/x-python",
   "name": "python",
   "nbconvert_exporter": "python",
   "pygments_lexer": "ipython3",
   "version": "3.12.4"
  }
 },
 "nbformat": 4,
 "nbformat_minor": 2
}
