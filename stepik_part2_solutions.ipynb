{
 "cells": [
  {
   "cell_type": "code",
   "execution_count": 52,
   "metadata": {},
   "outputs": [],
   "source": [
    "from random import randint, choice, shuffle, sample\n",
    "import string"
   ]
  },
  {
   "cell_type": "markdown",
   "metadata": {},
   "source": [
    "IP адрес состоит из четырех чисел из диапазона от 0 до 255 (включительно), разделенных точкой.\n",
    "Напишите функцию generate_ip(), которая с помощью модуля random генерирует и возвращает случайный корректный IP адрес."
   ]
  },
  {
   "cell_type": "code",
   "execution_count": 53,
   "metadata": {},
   "outputs": [],
   "source": [
    "def generate_ip():\n",
    "    numbers_for_ip = []\n",
    "    while len(numbers_for_ip) != 4:\n",
    "        numbers_for_ip.append(randint(0, 255))\n",
    "    numbers_for_ip = [str(num) for num in numbers_for_ip]\n",
    "    ip = \".\".join(numbers_for_ip)\n",
    "    return(ip)\n",
    "# print(generate_ip())"
   ]
  },
  {
   "cell_type": "markdown",
   "metadata": {},
   "source": [
    "Почтовый индекс в Латверии имеет вид: \n",
    "LetterLetterNumber_NumberLetterLetter, где Letter – заглавная буква английского алфавита, Number – число от 0 до 99 (включительно).\n",
    "\n",
    "Напишите функцию generate_index(), которая с помощью модуля random генерирует и возвращает случайный корректный почтовый индекс Латверии.\n",
    "\n",
    "Примечание 1. Обратите внимание на символ _ в почтовом индексе.\n",
    "\n",
    "Примечание 2. Вызывать функцию generate_index() не нужно, требуется только реализовать."
   ]
  },
  {
   "cell_type": "code",
   "execution_count": 54,
   "metadata": {},
   "outputs": [],
   "source": [
    "def generate_index():\n",
    "    letters = string.ascii_uppercase\n",
    "    return f'{choice(letters)}{choice(letters)}{randint(0, 99)}_{randint(0, 99)}{choice(letters)}{choice(letters)}'\n",
    "# generate_index()"
   ]
  },
  {
   "cell_type": "markdown",
   "metadata": {},
   "source": [
    "Напишите программу, которая с помощью модуля random перемешивает случайным образом содержимое матрицы (двумерного списка). Выводить содержимое матрицы не нужно."
   ]
  },
  {
   "cell_type": "code",
   "execution_count": 55,
   "metadata": {},
   "outputs": [],
   "source": [
    "matrix = [[1, 2, 3, 4],\n",
    "          [5, 6, 7, 8],\n",
    "          [9, 10, 11, 12],\n",
    "          [13, 14, 15, 16]]\n",
    "shuffle(matrix)\n",
    "# print(matrix)"
   ]
  },
  {
   "cell_type": "markdown",
   "metadata": {},
   "source": [
    "Напишите программу, которая с помощью модуля random генерирует 100 случайных номеров лотерейных билетов и выводит их каждый на отдельной строке. Обратите внимание, вы должны придерживаться следующих условий:\n",
    "- номер не может начинаться с нулей;\n",
    "- номер лотерейного билета должен состоять из 7 цифр;\n",
    "- все 100 лотерейных билетов должны быть различными."
   ]
  },
  {
   "cell_type": "code",
   "execution_count": 56,
   "metadata": {},
   "outputs": [
    {
     "name": "stdout",
     "output_type": "stream",
     "text": [
      "9348183\n",
      "5412236\n",
      "4434902\n",
      "5497240\n",
      "4769244\n",
      "6207390\n",
      "1782485\n",
      "2487254\n",
      "9585526\n",
      "7913808\n",
      "3599815\n",
      "3417338\n",
      "5973371\n",
      "5300487\n",
      "7671972\n",
      "1952432\n",
      "1905764\n",
      "6533235\n",
      "3809044\n",
      "7381139\n",
      "5185622\n",
      "1952738\n",
      "6920365\n",
      "6733995\n",
      "6126352\n",
      "3645027\n",
      "6504263\n",
      "8867135\n",
      "9452808\n",
      "3440153\n",
      "5958980\n",
      "3460452\n",
      "7848268\n",
      "4105275\n",
      "8658621\n",
      "8571855\n",
      "7245020\n",
      "1162893\n",
      "1552663\n",
      "8779706\n",
      "4026469\n",
      "2793285\n",
      "7607353\n",
      "3286375\n",
      "3406564\n",
      "5299796\n",
      "7849946\n",
      "5361805\n",
      "2620905\n",
      "7488594\n",
      "2785698\n",
      "2911263\n",
      "8755868\n",
      "1740391\n",
      "9599952\n",
      "5793879\n",
      "3424485\n",
      "4123261\n",
      "1364400\n",
      "8152839\n",
      "7808063\n",
      "4212342\n",
      "1746634\n",
      "7281007\n",
      "8175529\n",
      "9146941\n",
      "7908593\n",
      "9244324\n",
      "2601909\n",
      "4894760\n",
      "6096277\n",
      "8598842\n",
      "4460144\n",
      "9717945\n",
      "5013539\n",
      "8355625\n",
      "7121358\n",
      "5173375\n",
      "1129845\n",
      "8576701\n",
      "6558384\n",
      "4777047\n",
      "1824631\n",
      "7837954\n",
      "7914066\n",
      "4450545\n",
      "5963882\n",
      "3440965\n",
      "8519365\n",
      "4146383\n",
      "4486105\n",
      "4894549\n",
      "1234111\n",
      "4662862\n",
      "5413647\n",
      "5992777\n",
      "6679507\n",
      "4875494\n",
      "7384243\n",
      "4206658\n"
     ]
    }
   ],
   "source": [
    "lottery_tickets = []\n",
    "n = 100\n",
    "for _ in range (n):\n",
    "    ticket = randint(1000000, 9999999)\n",
    "    if ticket in lottery_tickets:\n",
    "        n += 1\n",
    "        continue\n",
    "    else:\n",
    "        lottery_tickets.append(ticket)\n",
    "for ticket in lottery_tickets:\n",
    "    print(ticket)"
   ]
  },
  {
   "cell_type": "markdown",
   "metadata": {},
   "source": [
    "Анаграмма – это слово, образованное путём перестановки букв, составляющих другое слово.\n",
    "\n",
    "Например, слова \"пила\" и \"липа\" или \"пост\" и \"стоп\" – анаграммы.\n",
    "\n",
    "Напишите программу, которая считывает одно слово и выводит с помощью модуля random его случайную анаграмму.\n",
    "\n",
    "Примечание. Обратите внимание на то, что метод shuffle() работает со списком, а не со строкой."
   ]
  },
  {
   "cell_type": "code",
   "execution_count": 57,
   "metadata": {},
   "outputs": [
    {
     "name": "stdout",
     "output_type": "stream",
     "text": [
      "\n"
     ]
    }
   ],
   "source": [
    "list_for_anagrams = []\n",
    "list_for_anagrams.extend(input())\n",
    "shuffle(list_for_anagrams)\n",
    "anagram = \"\".join(list_for_anagrams)\n",
    "print(anagram)"
   ]
  },
  {
   "cell_type": "markdown",
   "metadata": {},
   "source": [
    "Для игры в бинго требуется карточка размером 5×5, содержащая различные (уникальные) целые числа от 1 до 75 (включительно), при этом центральная клетка является пустой (она заполняется числом 0).\n",
    "\n",
    "Напишите программу, которая с помощью модуля random генерирует и выводит случайную карточку для игры в бинго."
   ]
  },
  {
   "cell_type": "code",
   "execution_count": 58,
   "metadata": {},
   "outputs": [
    {
     "name": "stdout",
     "output_type": "stream",
     "text": [
      "19 48 14 69 46 \n",
      "35 39 29 8  50 \n",
      "37 6  0  30 33 \n",
      "55 5  23 2  45 \n",
      "53 70 4  65 27 \n"
     ]
    }
   ],
   "source": [
    "my_list = [*range(1, 76)]\n",
    "numbers = sample(my_list, 25)\n",
    "bingo = [[str(numbers.pop()).ljust(3) for _ in range(5)] for _ in range(5)]\n",
    "bingo[2][2] = str(0).ljust(3)\n",
    "for row in bingo:\n",
    "    print(*row, sep = '')"
   ]
  },
  {
   "cell_type": "markdown",
   "metadata": {},
   "source": [
    "## Генератор паролей 1"
   ]
  },
  {
   "cell_type": "code",
   "execution_count": 59,
   "metadata": {},
   "outputs": [],
   "source": [
    "from string import ascii_letters\n",
    "from random import sample"
   ]
  },
  {
   "cell_type": "code",
   "execution_count": 60,
   "metadata": {},
   "outputs": [
    {
     "name": "stdout",
     "output_type": "stream",
     "text": [
      "aFVc\n",
      "trLV\n",
      "zWQh\n",
      "ReDH\n"
     ]
    }
   ],
   "source": [
    "n, m = int(input()), int(input())\n",
    "\n",
    "generation_field = list(set(ascii_letters).difference(set(\"lIoO01\")))\n",
    "\n",
    "\n",
    "def generate_passwords(count, length):\n",
    "    passwords = []\n",
    "    for _ in range(count):\n",
    "        new_letter = \"\".join(sample(generation_field, length))\n",
    "        passwords.append(new_letter)\n",
    "\n",
    "    for password in passwords:\n",
    "        print(password)\n",
    "\n",
    "\n",
    "generate_passwords(n, m)"
   ]
  },
  {
   "cell_type": "markdown",
   "metadata": {},
   "source": [
    "## Генератор паролей 2"
   ]
  },
  {
   "cell_type": "code",
   "execution_count": 61,
   "metadata": {},
   "outputs": [
    {
     "ename": "ValueError",
     "evalue": "invalid literal for int() with base 10: ''",
     "output_type": "error",
     "traceback": [
      "\u001b[1;31m---------------------------------------------------------------------------\u001b[0m",
      "\u001b[1;31mValueError\u001b[0m                                Traceback (most recent call last)",
      "Cell \u001b[1;32mIn[61], line 5\u001b[0m\n\u001b[0;32m      1\u001b[0m \u001b[38;5;28;01mfrom\u001b[39;00m \u001b[38;5;21;01mstring\u001b[39;00m \u001b[38;5;28;01mimport\u001b[39;00m ascii_letters, digits\n\u001b[0;32m      2\u001b[0m \u001b[38;5;28;01mfrom\u001b[39;00m \u001b[38;5;21;01mrandom\u001b[39;00m \u001b[38;5;28;01mimport\u001b[39;00m sample\n\u001b[1;32m----> 5\u001b[0m n, m \u001b[38;5;241m=\u001b[39m \u001b[38;5;28;43mint\u001b[39;49m\u001b[43m(\u001b[49m\u001b[38;5;28;43minput\u001b[39;49m\u001b[43m(\u001b[49m\u001b[43m)\u001b[49m\u001b[43m)\u001b[49m, \u001b[38;5;28mint\u001b[39m(\u001b[38;5;28minput\u001b[39m())\n\u001b[0;32m      6\u001b[0m generation_field \u001b[38;5;241m=\u001b[39m \u001b[38;5;28mlist\u001b[39m((\u001b[38;5;28mset\u001b[39m(ascii_letters)\u001b[38;5;241m.\u001b[39munion(digits))\u001b[38;5;241m.\u001b[39mdifference(\u001b[38;5;28mset\u001b[39m(\u001b[38;5;124m\"\u001b[39m\u001b[38;5;124mlIoO01\u001b[39m\u001b[38;5;124m\"\u001b[39m)))\n\u001b[0;32m      9\u001b[0m \u001b[38;5;28;01mdef\u001b[39;00m \u001b[38;5;21mgenerate_passwords\u001b[39m(number, length):\n",
      "\u001b[1;31mValueError\u001b[0m: invalid literal for int() with base 10: ''"
     ]
    }
   ],
   "source": [
    "from string import ascii_letters, digits\n",
    "from random import sample\n",
    "\n",
    "\n",
    "n, m = int(input()), int(input())\n",
    "generation_field = list((set(ascii_letters).union(digits)).difference(set(\"lIoO01\")))\n",
    "\n",
    "\n",
    "def generate_passwords(number, length):\n",
    "    passwords, count = [], 0\n",
    "    while count != number:\n",
    "        new_letter = \"\".join(sample(generation_field, length))\n",
    "        if new_letter.isalpha() or new_letter.isdigit() or new_letter.islower() or new_letter.isupper():\n",
    "            continue\n",
    "        else:\n",
    "            count += 1\n",
    "            passwords.append(new_letter)\n",
    "\n",
    "    for password in passwords:\n",
    "        print(password)\n",
    "\n",
    "\n",
    "generate_passwords(n, m)"
   ]
  },
  {
   "cell_type": "markdown",
   "metadata": {},
   "source": [
    "## Метод Монте-Карло"
   ]
  },
  {
   "cell_type": "code",
   "execution_count": null,
   "metadata": {},
   "outputs": [
    {
     "name": "stdout",
     "output_type": "stream",
     "text": [
      "0.25\n"
     ]
    }
   ],
   "source": [
    "import random\n",
    "\n",
    "\n",
    "n = 100\n",
    "k = 0\n",
    "s0 = 1\n",
    "for _ in range(n):\n",
    "    x = random.uniform(0, 1)\n",
    "    y = random.uniform(0, 1)\n",
    "    if y <= x**2:\n",
    "        k += 1\n",
    "\n",
    "print((k/n)*s0)"
   ]
  },
  {
   "cell_type": "code",
   "execution_count": null,
   "metadata": {},
   "outputs": [
    {
     "name": "stdout",
     "output_type": "stream",
     "text": [
      "3.14156\n"
     ]
    }
   ],
   "source": [
    "from random import uniform\n",
    "\n",
    "s0 = 4\n",
    "n = 10**6\n",
    "k = 0\n",
    "for _ in range(n):\n",
    "    x = uniform(-1, 1)\n",
    "    y = uniform(-1, 1)\n",
    "    if x**2 + y**2 <= 1:\n",
    "        k += 1\n",
    "\n",
    "print((k/n) * s0)"
   ]
  },
  {
   "cell_type": "markdown",
   "metadata": {},
   "source": [
    "Decimal числа, разделенные символом пробела, хранятся в строковой переменной s. Дополните приведенный код так, чтобы он вывел сумму наибольшего и наименьшего Decimal числа."
   ]
  },
  {
   "cell_type": "code",
   "execution_count": null,
   "metadata": {},
   "outputs": [
    {
     "name": "stdout",
     "output_type": "stream",
     "text": [
      "10.00\n"
     ]
    }
   ],
   "source": [
    "from decimal import Decimal as D\n",
    "s = '0.77 4.03 9.06 3.80 7.08 5.88 0.23 4.65 2.79 0.90 4.23 2.15 3.24 8.57 0.10 8.57 1.49 5.64 3.63 8.36 1.56 6.67 1.46 5.26 4.83 7.23 1.22 1.02 7.82 9.97 5.40 9.79 9.82 2.78 2.96 0.07 1.72 7.24 7.84 9.23 1.71 6.24 5.78 5.37 0.03 9.60 8.86 2.73 5.83 6.50'\n",
    "final_s = [D(num) for num in s.split()]\n",
    "print(max(final_s) + min(final_s))"
   ]
  },
  {
   "cell_type": "markdown",
   "metadata": {},
   "source": [
    "Decimal числа, разделенные символом пробела, хранятся в строковой переменной s. Дополните приведенный код так, чтобы он вывел на первой строке сумму всех чисел, а на второй строке 5 самых больших чисел в порядке убывания, разделенных символом пробела."
   ]
  },
  {
   "cell_type": "code",
   "execution_count": null,
   "metadata": {},
   "outputs": [
    {
     "name": "stdout",
     "output_type": "stream",
     "text": [
      "279.12\n",
      "9.85 9.74 9.73 9.60 9.36 "
     ]
    }
   ],
   "source": [
    "from decimal import Decimal as D\n",
    "s = '9.73 8.84 8.92 9.60 9.32 8.97 8.53 1.26 6.62 9.85 1.85 1.80 0.83 6.75 9.74 9.11 9.14 5.03 5.03 1.34 3.52 8.09 7.89 8.24 8.23 5.22 0.30 2.59 1.25 6.24 2.14 7.54 5.72 2.75 2.32 2.69 9.32 8.11 4.53 0.80 0.08 9.36 5.22 4.08 3.86 5.56 1.43 8.36 6.29 5.13'\n",
    "final_s = [D(num) for num in s.split()]\n",
    "\n",
    "print(sum(final_s))\n",
    "n = 0\n",
    "while n != 5:\n",
    "    print(max(final_s), end=\" \")\n",
    "    final_s.remove(max(final_s))\n",
    "    n += 1\n",
    "\n"
   ]
  },
  {
   "cell_type": "markdown",
   "metadata": {},
   "source": [
    "Дополните приведенный код так, чтобы он вывел сумму наибольшей и наименьшей цифры Decimal числа."
   ]
  },
  {
   "cell_type": "code",
   "execution_count": null,
   "metadata": {},
   "outputs": [
    {
     "name": "stdout",
     "output_type": "stream",
     "text": [
      "9\n"
     ]
    },
    {
     "data": {
      "text/plain": [
       "DecimalTuple(sign=0, digits=(1, 2, 4, 4, 3, 5, 4, 6, 8, 9), exponent=-10)"
      ]
     },
     "execution_count": 28,
     "metadata": {},
     "output_type": "execute_result"
    }
   ],
   "source": [
    "from decimal import Decimal as D\n",
    "num = D(input())\n",
    "if int(num) == 0:\n",
    "    print(max(num.as_tuple()[1]))\n",
    "else:\n",
    "    print(max(num.as_tuple()[1]) + min(num.as_tuple()[1]))\n",
    "num.as_tuple()"
   ]
  },
  {
   "cell_type": "markdown",
   "metadata": {},
   "source": [
    "# Математическое выражение\n",
    "На вход программе подается Decimal число d. Напишите программу, которая вычисляет значение выражения:\n",
    "e^d+ln(d)+lg(d)+sqrt(d)"
   ]
  },
  {
   "cell_type": "code",
   "execution_count": null,
   "metadata": {},
   "outputs": [
    {
     "name": "stdout",
     "output_type": "stream",
     "text": [
      "85.67354357871882344843981289\n"
     ]
    }
   ],
   "source": [
    "from decimal import *\n",
    "d = Decimal(input())\n",
    "print(d.exp() + d.ln() + d.log10() + d.sqrt())"
   ]
  },
  {
   "cell_type": "markdown",
   "metadata": {},
   "source": [
    "Десятичные числа хранятся в списке numbers в виде строк. Дополните приведенный код так, чтобы он для каждого десятичного числа вывел его представление в виде обыкновенной дроби в формате:\n",
    "<ul>\n",
    "<li>десятичное число = обыкновенная дробь</li>\n",
    "</ul>"
   ]
  },
  {
   "cell_type": "code",
   "execution_count": null,
   "metadata": {},
   "outputs": [],
   "source": [
    "from fractions import Fraction as F\n",
    "\n",
    "numbers = ['6.34', '4.08', '3.04', '7.49', '4.45', '5.39', '7.82', '2.76', '0.71', '1.97', '2.54', '3.67', '0.14', '4.29', '1.84', '4.07', '7.26', '9.37', '8.11', '4.30', '7.16', '2.46', '1.27', '0.29', '5.12', '4.02', '6.95', '1.62', '2.26', '0.45', '6.91', '7.39', '0.52', '1.88', '8.38', '0.75', '0.32', '4.81', '3.31', '4.63', '7.84', '2.25', '1.10', '3.35', '2.05', '7.87', '2.40', '1.20', '2.58', '2.46']\n",
    "\n",
    "fractions = [F(num) for num in numbers]\n",
    "for i in range(len(numbers)):\n",
    "    print(f\"{numbers[i]} = {fractions[i]}\")"
   ]
  },
  {
   "cell_type": "markdown",
   "metadata": {},
   "source": [
    "Десятичные числа, разделенные символом пробела, хранятся в строковой переменной s. Дополните приведенный код так, чтобы он вывел сумму наибольшего и наименьшего числа в виде обыкновенной дроби."
   ]
  },
  {
   "cell_type": "code",
   "execution_count": null,
   "metadata": {},
   "outputs": [
    {
     "name": "stdout",
     "output_type": "stream",
     "text": [
      "997021/100000\n"
     ]
    }
   ],
   "source": [
    "from fractions import Fraction\n",
    "s = '0.78 4.3 9.6 3.88 7.08 5.88 0.23 4.65 2.79 0.90 4.23 2.15 3.24 8.57 0.10 8.57 1.49 5.64 3.63 8.36 1.56 6.67 1.46 5.26 4.83 7.13 1.22 1.02 7.82 9.97 5.40 9.79 9.82 2.78 2.96 0.07 1.72 7.24 7.84 9.23 1.71 6.24 5.78 5.37 0.03 9.60 8.86 2.73 5.83 6.50 0.123 0.00021'\n",
    "fract = [Fraction(num) for num in s.split()]\n",
    "print(max(fract) + min(fract))"
   ]
  },
  {
   "cell_type": "markdown",
   "metadata": {},
   "source": [
    "# Сократите дробь\n",
    "Даны два натуральных числа *m* и *n*. Напишите программу, которая сокращает дробь m/n и выводит ее.\n",
    "\n",
    "### Формат входных данных\n",
    "На вход программе подаются два натуральных числа, числитель и знаменатель дроби, каждое на отдельной строке.\n",
    "\n",
    "### Формат выходных данных\n",
    "Программа должна вывести ответ на задачу."
   ]
  },
  {
   "cell_type": "code",
   "execution_count": null,
   "metadata": {},
   "outputs": [
    {
     "name": "stdout",
     "output_type": "stream",
     "text": [
      "1/2\n"
     ]
    }
   ],
   "source": [
    "from fractions import Fraction as F\n",
    "\n",
    "m, n = F(int(input())), F(int(input()))\n",
    "print(m/n)"
   ]
  },
  {
   "cell_type": "markdown",
   "metadata": {},
   "source": [
    "# Операции над дробями\n",
    "Даны две дроби в формате a/b. Напишите программу, которая вычисляет и выводит их сумму, разность, произведение и частное.\n",
    "\n",
    "### Формат входных данных\n",
    "На вход программе подаются две ненулевые дроби, каждая на отдельной строке.\n",
    "\n",
    "### Формат выходных данных\n",
    "Программа должна вывести сумму, разность, произведение и частное двух дробей.\n",
    "\n",
    "### Примечание. \n",
    "Обратите внимание на третий тест: исходные дроби сокращать не нужно, а результат нужно."
   ]
  },
  {
   "cell_type": "code",
   "execution_count": null,
   "metadata": {},
   "outputs": [
    {
     "name": "stdout",
     "output_type": "stream",
     "text": [
      "5/10 + 10/5 = 5/2\n",
      "5/10 - 10/5 = -3/2\n",
      "5/10 * 10/5 = 1\n",
      "5/10 / 10/5 = 1/4\n"
     ]
    }
   ],
   "source": [
    "from fractions import Fraction as F\n",
    "\n",
    "fraction1 = input()\n",
    "fraction2 = input()\n",
    "print(f\"{fraction1} + {fraction2} = {F(fraction1)+F(fraction2)}\")\n",
    "print(f\"{fraction1} - {fraction2} = {F(fraction1)-F(fraction2)}\")\n",
    "print(f\"{fraction1} * {fraction2} = {F(fraction1)*F(fraction2)}\")\n",
    "print(f\"{fraction1} / {fraction2} = {F(fraction1)/F(fraction2)}\")"
   ]
  },
  {
   "cell_type": "markdown",
   "metadata": {},
   "source": [
    "# Сумма дробей 1\n",
    "На вход программе подается натуральное число *n*. Напишите программу, которая вычисляет и выводит рациональное число, равное значению выражения:\n",
    "1/1^2+1/2^2 + ... + 1/n^2\n",
    "## Формат входных данных\n",
    "На вход программе подается натуральное число *n*.\n",
    "\n",
    "## Формат выходных данных\n",
    "Программа должна вывести ответ на задачу.\n",
    "\n",
    "### Примечание 1\n",
    "Результирующая дробь должна быть несократимой."
   ]
  },
  {
   "cell_type": "code",
   "execution_count": null,
   "metadata": {},
   "outputs": [
    {
     "name": "stdout",
     "output_type": "stream",
     "text": [
      "1\n"
     ]
    }
   ],
   "source": [
    "from fractions import Fraction as F\n",
    "\n",
    "n = int(input())\n",
    "fract = [F(1, i**2) for i in range(1, n+1)]\n",
    "print(sum(fract))\n"
   ]
  },
  {
   "cell_type": "markdown",
   "metadata": {},
   "source": [
    "# Сумма дробей 2\n",
    "На вход программе подается натуральное число *n*. Напишите программу, которая вычисляет и выводит рациональное число, равное значению выражения:\n",
    "1/1! + 1/2! + ... + 1/n!\n",
    "\n",
    "### Формат входных данных\n",
    "На вход программе подается натуральное число *n*.\n",
    "\n",
    "### Формат выходных данных\n",
    "Программа должна вывести ответ на задачу.\n",
    "\n",
    "### Примечание 1. \n",
    "Результирующая дробь должна быть несократимой.\n",
    "\n",
    "### Примечание 2. \n",
    "Для вычисления факториала можно использовать функцию *factorial* из модуля *math*."
   ]
  },
  {
   "cell_type": "code",
   "execution_count": null,
   "metadata": {},
   "outputs": [
    {
     "data": {
      "text/plain": [
       "Fraction(103, 60)"
      ]
     },
     "execution_count": 41,
     "metadata": {},
     "output_type": "execute_result"
    }
   ],
   "source": [
    "from fractions import Fraction as F\n",
    "from math import factorial\n",
    "\n",
    "n = int(input())\n",
    "fracts = [F(1, factorial(i)) for i in range(1, n+1)]\n",
    "sum(fracts)"
   ]
  },
  {
   "cell_type": "markdown",
   "metadata": {},
   "source": [
    "# Юный математик 🤓🌶️\n",
    "Дима учится в седьмом классе и сейчас они проходят обыкновенные дроби с натуральными числителем и знаменателем. Вчера на уроке математики Дима узнал, что дробь называется правильной, если ее числитель меньше знаменателя, или несократимой, если нет равной ей дроби с меньшими натуральными числителем и знаменателем.\n",
    "\n",
    "Дима очень любит математику, поэтому дома он долго экспериментировал, придумывая и решая разные задачки с правильными несократимыми дробями. Одну из этих задач Дима предлагает решить вам с помощью компьютера.\n",
    "\n",
    "На вход программе подается натуральное число *n*. Напишите программу, которая находит наибольшую правильную несократимую дробь с суммой числителя и знаменателя, равной *n*.\n",
    "\n",
    "### Формат входных данных\n",
    "На вход программе подается натуральное число *n*.\n",
    "\n",
    "### Формат выходных данных\n",
    "Программа должна вывести ответ на задачу.\n",
    "\n",
    "### Примечание. \n",
    "Возможно, вам потребуется функция *gcd()*, которая позволяет находить наибольший общий делитель (НОД) двух чисел. Функция реализована в модуле *math*."
   ]
  },
  {
   "cell_type": "code",
   "execution_count": null,
   "metadata": {},
   "outputs": [
    {
     "name": "stdout",
     "output_type": "stream",
     "text": [
      "11/12\n"
     ]
    }
   ],
   "source": [
    "from fractions import Fraction as F\n",
    "from math import gcd\n",
    "\n",
    "n = int(input())\n",
    "max_fraction = F(0, 1)\n",
    "for a in range (1, n//2+1):\n",
    "    b = n - a\n",
    "    if a < b and gcd(a, b) == 1:\n",
    "        current_fraction = F(a, b)\n",
    "        if current_fraction > max_fraction:\n",
    "            max_fraction = current_fraction\n",
    "    else:\n",
    "        continue\n",
    "\n",
    "print(max_fraction)\n"
   ]
  },
  {
   "cell_type": "markdown",
   "metadata": {},
   "source": [
    "# Упорядоченные дроби\n",
    "На вход программе подается натуральное число *n*. Напишите программу, которая выводит в порядке возрастания все несократимые дроби, заключенные между 0 и 1, знаменатель которых не превосходит *n*.\n",
    "\n",
    "### Формат входных данных\n",
    "На вход программе подается натуральное число *n*\n",
    "(n>1).\n",
    "\n",
    "### Формат выходных данных\n",
    "Программа должна вывести искомые дроби, каждую на отдельной строке.\n",
    "\n",
    "### Примечание. \n",
    "Возможно вам потребуется функция *gcd()*, которая позволяет находить наибольший общий делитель (НОД) двух чисел. Функция реализована в модуле *math*."
   ]
  },
  {
   "cell_type": "code",
   "execution_count": 76,
   "metadata": {},
   "outputs": [
    {
     "name": "stdout",
     "output_type": "stream",
     "text": [
      "1/5\n",
      "1/4\n",
      "1/3\n",
      "2/5\n",
      "1/2\n",
      "3/5\n",
      "2/3\n",
      "3/4\n",
      "4/5\n"
     ]
    }
   ],
   "source": [
    "from fractions import Fraction as F\n",
    "from math import gcd\n",
    "\n",
    "\n",
    "n = int(input())\n",
    "fracts = []\n",
    "for i in range (1, n+1):\n",
    "    for j in range (1, n+1):\n",
    "        if gcd(i, j) == 1 and i < j:\n",
    "            fracts.append(F(i, j))\n",
    "fracts.sort()\n",
    "print(*fracts, sep=\"\\n\")"
   ]
  },
  {
   "cell_type": "markdown",
   "metadata": {},
   "source": [
    "# Операции над комплексными числами\n",
    "Даны два комплексных числа. Напишите программу, которая вычисляет и выводит их сумму, разность и произведение.\n",
    "\n",
    "### Формат входных данных\n",
    "На вход программе подаются два комплексных числа, каждое на отдельной строке.\n",
    "\n",
    "### Формат выходных данных\n",
    "Программа должна вывести ответ на задачу."
   ]
  },
  {
   "cell_type": "code",
   "execution_count": null,
   "metadata": {},
   "outputs": [
    {
     "name": "stdout",
     "output_type": "stream",
     "text": [
      "(1+2j) + (-2+4j) = (-1+6j)\n",
      "(1+2j) - (-2+4j) = (3-2j)\n",
      "(1+2j) * (-2+4j) = (-10+0j)\n"
     ]
    }
   ],
   "source": [
    "n, m = complex(input()), complex(input())\n",
    "print(f\"{n} + {m} = {n+m}\")\n",
    "print(f\"{n} - {m} = {n-m}\")\n",
    "print(f\"{n.conjugate()} * {m.conjugate()} = {(n*m).conjugate()}\")"
   ]
  }
 ],
 "metadata": {
  "kernelspec": {
   "display_name": "my_conda_env",
   "language": "python",
   "name": "python3"
  },
  "language_info": {
   "codemirror_mode": {
    "name": "ipython",
    "version": 3
   },
   "file_extension": ".py",
   "mimetype": "text/x-python",
   "name": "python",
   "nbconvert_exporter": "python",
   "pygments_lexer": "ipython3",
   "version": "3.12.4"
  }
 },
 "nbformat": 4,
 "nbformat_minor": 2
}
