{
 "cells": [
  {
   "cell_type": "code",
   "execution_count": 45,
   "metadata": {},
   "outputs": [],
   "source": [
    "from random import randint, choice, shuffle, sample\n",
    "import string"
   ]
  },
  {
   "cell_type": "markdown",
   "metadata": {},
   "source": [
    "IP адрес состоит из четырех чисел из диапазона от 0 до 255 (включительно), разделенных точкой.\n",
    "Напишите функцию generate_ip(), которая с помощью модуля random генерирует и возвращает случайный корректный IP адрес."
   ]
  },
  {
   "cell_type": "code",
   "execution_count": 46,
   "metadata": {},
   "outputs": [],
   "source": [
    "def generate_ip():\n",
    "    numbers_for_ip = []\n",
    "    while len(numbers_for_ip) != 4:\n",
    "        numbers_for_ip.append(randint(0, 255))\n",
    "    numbers_for_ip = [str(num) for num in numbers_for_ip]\n",
    "    ip = \".\".join(numbers_for_ip)\n",
    "    return(ip)\n",
    "# print(generate_ip())"
   ]
  },
  {
   "cell_type": "markdown",
   "metadata": {},
   "source": [
    "Почтовый индекс в Латверии имеет вид: \n",
    "LetterLetterNumber_NumberLetterLetter, где Letter – заглавная буква английского алфавита, Number – число от 0 до 99 (включительно).\n",
    "\n",
    "Напишите функцию generate_index(), которая с помощью модуля random генерирует и возвращает случайный корректный почтовый индекс Латверии.\n",
    "\n",
    "Примечание 1. Обратите внимание на символ _ в почтовом индексе.\n",
    "\n",
    "Примечание 2. Вызывать функцию generate_index() не нужно, требуется только реализовать."
   ]
  },
  {
   "cell_type": "code",
   "execution_count": 47,
   "metadata": {},
   "outputs": [],
   "source": [
    "def generate_index():\n",
    "    letters = string.ascii_uppercase\n",
    "    return f'{choice(letters)}{choice(letters)}{randint(0, 99)}_{randint(0, 99)}{choice(letters)}{choice(letters)}'\n",
    "# generate_index()"
   ]
  },
  {
   "cell_type": "markdown",
   "metadata": {},
   "source": [
    "Напишите программу, которая с помощью модуля random перемешивает случайным образом содержимое матрицы (двумерного списка). Выводить содержимое матрицы не нужно."
   ]
  },
  {
   "cell_type": "code",
   "execution_count": 48,
   "metadata": {},
   "outputs": [],
   "source": [
    "matrix = [[1, 2, 3, 4],\n",
    "          [5, 6, 7, 8],\n",
    "          [9, 10, 11, 12],\n",
    "          [13, 14, 15, 16]]\n",
    "shuffle(matrix)\n",
    "# print(matrix)"
   ]
  },
  {
   "cell_type": "markdown",
   "metadata": {},
   "source": [
    "Напишите программу, которая с помощью модуля random генерирует 100 случайных номеров лотерейных билетов и выводит их каждый на отдельной строке. Обратите внимание, вы должны придерживаться следующих условий:\n",
    "- номер не может начинаться с нулей;\n",
    "- номер лотерейного билета должен состоять из 7 цифр;\n",
    "- все 100 лотерейных билетов должны быть различными."
   ]
  },
  {
   "cell_type": "code",
   "execution_count": 49,
   "metadata": {},
   "outputs": [
    {
     "name": "stdout",
     "output_type": "stream",
     "text": [
      "3733443\n",
      "3431824\n",
      "6891885\n",
      "8881318\n",
      "9489655\n",
      "9978015\n",
      "6106342\n",
      "7250802\n",
      "1605822\n",
      "4311309\n",
      "8624219\n",
      "3949339\n",
      "8569044\n",
      "6438760\n",
      "9082643\n",
      "3226461\n",
      "1331356\n",
      "6340611\n",
      "6921270\n",
      "1173200\n",
      "2116096\n",
      "1963418\n",
      "1897762\n",
      "5511276\n",
      "5895696\n",
      "5809501\n",
      "6920191\n",
      "4856543\n",
      "8308553\n",
      "6607799\n",
      "2165681\n",
      "2823227\n",
      "9462117\n",
      "3259147\n",
      "1749711\n",
      "9567648\n",
      "9973785\n",
      "6200706\n",
      "7204283\n",
      "6292595\n",
      "1023750\n",
      "6440773\n",
      "5041169\n",
      "7113100\n",
      "3277124\n",
      "5323047\n",
      "1098841\n",
      "7470157\n",
      "6409743\n",
      "1255998\n",
      "3586593\n",
      "4871768\n",
      "5861559\n",
      "8916441\n",
      "5838371\n",
      "4174961\n",
      "9695052\n",
      "8084263\n",
      "6126877\n",
      "5237025\n",
      "1391126\n",
      "9075690\n",
      "5942868\n",
      "4031267\n",
      "4999778\n",
      "3570577\n",
      "9183808\n",
      "3586848\n",
      "2562408\n",
      "8369307\n",
      "5885628\n",
      "6376161\n",
      "1009952\n",
      "4882211\n",
      "5651896\n",
      "2412551\n",
      "5646440\n",
      "6748438\n",
      "8324054\n",
      "8409081\n",
      "4297558\n",
      "7474989\n",
      "5237273\n",
      "2363925\n",
      "6839286\n",
      "2649734\n",
      "7290780\n",
      "5579287\n",
      "1718789\n",
      "8466770\n",
      "8702549\n",
      "9787757\n",
      "5945737\n",
      "8310708\n",
      "7556926\n",
      "6479397\n",
      "6892999\n",
      "1544682\n",
      "3720287\n",
      "1296971\n"
     ]
    }
   ],
   "source": [
    "lottery_tickets = []\n",
    "n = 100\n",
    "for _ in range (n):\n",
    "    ticket = randint(1000000, 9999999)\n",
    "    if ticket in lottery_tickets:\n",
    "        n += 1\n",
    "        continue\n",
    "    else:\n",
    "        lottery_tickets.append(ticket)\n",
    "for ticket in lottery_tickets:\n",
    "    print(ticket)"
   ]
  },
  {
   "cell_type": "markdown",
   "metadata": {},
   "source": [
    "Анаграмма – это слово, образованное путём перестановки букв, составляющих другое слово.\n",
    "\n",
    "Например, слова \"пила\" и \"липа\" или \"пост\" и \"стоп\" – анаграммы.\n",
    "\n",
    "Напишите программу, которая считывает одно слово и выводит с помощью модуля random его случайную анаграмму.\n",
    "\n",
    "Примечание. Обратите внимание на то, что метод shuffle() работает со списком, а не со строкой."
   ]
  },
  {
   "cell_type": "code",
   "execution_count": 50,
   "metadata": {},
   "outputs": [
    {
     "name": "stdout",
     "output_type": "stream",
     "text": [
      "\n"
     ]
    }
   ],
   "source": [
    "list_for_anagrams = []\n",
    "list_for_anagrams.extend(input())\n",
    "shuffle(list_for_anagrams)\n",
    "anagram = \"\".join(list_for_anagrams)\n",
    "print(anagram)"
   ]
  },
  {
   "cell_type": "markdown",
   "metadata": {},
   "source": [
    "Для игры в бинго требуется карточка размером 5×5, содержащая различные (уникальные) целые числа от 1 до 75 (включительно), при этом центральная клетка является пустой (она заполняется числом 0).\n",
    "\n",
    "Напишите программу, которая с помощью модуля random генерирует и выводит случайную карточку для игры в бинго."
   ]
  },
  {
   "cell_type": "code",
   "execution_count": 51,
   "metadata": {},
   "outputs": [
    {
     "name": "stdout",
     "output_type": "stream",
     "text": [
      "63 6  49 73 64 \n",
      "2  37 59 67 39 \n",
      "52 26 0  21 50 \n",
      "47 31 74 11 19 \n",
      "36 32 43 13 71 \n"
     ]
    }
   ],
   "source": [
    "my_list = [*range(1, 76)]\n",
    "numbers = sample(my_list, 25)\n",
    "bingo = [[str(numbers.pop()).ljust(3) for _ in range(5)] for _ in range(5)]\n",
    "bingo[2][2] = str(0).ljust(3)\n",
    "for row in bingo:\n",
    "    print(*row, sep = '')"
   ]
  },
  {
   "cell_type": "markdown",
   "metadata": {},
   "source": [
    "## Генератор паролей 1"
   ]
  },
  {
   "cell_type": "code",
   "execution_count": 52,
   "metadata": {},
   "outputs": [],
   "source": [
    "from string import ascii_letters\n",
    "from random import sample"
   ]
  },
  {
   "cell_type": "code",
   "execution_count": 53,
   "metadata": {},
   "outputs": [
    {
     "ename": "ValueError",
     "evalue": "invalid literal for int() with base 10: ''",
     "output_type": "error",
     "traceback": [
      "\u001b[1;31m---------------------------------------------------------------------------\u001b[0m",
      "\u001b[1;31mValueError\u001b[0m                                Traceback (most recent call last)",
      "Cell \u001b[1;32mIn[53], line 1\u001b[0m\n\u001b[1;32m----> 1\u001b[0m n, m \u001b[38;5;241m=\u001b[39m \u001b[38;5;28;43mint\u001b[39;49m\u001b[43m(\u001b[49m\u001b[38;5;28;43minput\u001b[39;49m\u001b[43m(\u001b[49m\u001b[43m)\u001b[49m\u001b[43m)\u001b[49m, \u001b[38;5;28mint\u001b[39m(\u001b[38;5;28minput\u001b[39m())\n\u001b[0;32m      3\u001b[0m generation_field \u001b[38;5;241m=\u001b[39m \u001b[38;5;28mlist\u001b[39m(\u001b[38;5;28mset\u001b[39m(ascii_letters)\u001b[38;5;241m.\u001b[39mdifference(\u001b[38;5;28mset\u001b[39m(\u001b[38;5;124m\"\u001b[39m\u001b[38;5;124mlIoO01\u001b[39m\u001b[38;5;124m\"\u001b[39m)))\n\u001b[0;32m      6\u001b[0m \u001b[38;5;28;01mdef\u001b[39;00m \u001b[38;5;21mgenerate_passwords\u001b[39m(count, length):\n",
      "\u001b[1;31mValueError\u001b[0m: invalid literal for int() with base 10: ''"
     ]
    }
   ],
   "source": [
    "n, m = int(input()), int(input())\n",
    "\n",
    "generation_field = list(set(ascii_letters).difference(set(\"lIoO01\")))\n",
    "\n",
    "\n",
    "def generate_passwords(count, length):\n",
    "    passwords = []\n",
    "    for _ in range(count):\n",
    "        new_letter = \"\".join(sample(generation_field, length))\n",
    "        passwords.append(new_letter)\n",
    "\n",
    "    for password in passwords:\n",
    "        print(password)\n",
    "\n",
    "\n",
    "generate_passwords(n, m)"
   ]
  },
  {
   "cell_type": "markdown",
   "metadata": {},
   "source": [
    "## Генератор паролей 2"
   ]
  },
  {
   "cell_type": "code",
   "execution_count": null,
   "metadata": {},
   "outputs": [
    {
     "ename": "ValueError",
     "evalue": "invalid literal for int() with base 10: ''",
     "output_type": "error",
     "traceback": [
      "\u001b[1;31m---------------------------------------------------------------------------\u001b[0m",
      "\u001b[1;31mValueError\u001b[0m                                Traceback (most recent call last)",
      "Cell \u001b[1;32mIn[61], line 5\u001b[0m\n\u001b[0;32m      1\u001b[0m \u001b[38;5;28;01mfrom\u001b[39;00m \u001b[38;5;21;01mstring\u001b[39;00m \u001b[38;5;28;01mimport\u001b[39;00m ascii_letters, digits\n\u001b[0;32m      2\u001b[0m \u001b[38;5;28;01mfrom\u001b[39;00m \u001b[38;5;21;01mrandom\u001b[39;00m \u001b[38;5;28;01mimport\u001b[39;00m sample\n\u001b[1;32m----> 5\u001b[0m n, m \u001b[38;5;241m=\u001b[39m \u001b[38;5;28;43mint\u001b[39;49m\u001b[43m(\u001b[49m\u001b[38;5;28;43minput\u001b[39;49m\u001b[43m(\u001b[49m\u001b[43m)\u001b[49m\u001b[43m)\u001b[49m, \u001b[38;5;28mint\u001b[39m(\u001b[38;5;28minput\u001b[39m())\n\u001b[0;32m      6\u001b[0m generation_field \u001b[38;5;241m=\u001b[39m \u001b[38;5;28mlist\u001b[39m((\u001b[38;5;28mset\u001b[39m(ascii_letters)\u001b[38;5;241m.\u001b[39munion(digits))\u001b[38;5;241m.\u001b[39mdifference(\u001b[38;5;28mset\u001b[39m(\u001b[38;5;124m\"\u001b[39m\u001b[38;5;124mlIoO01\u001b[39m\u001b[38;5;124m\"\u001b[39m)))\n\u001b[0;32m      9\u001b[0m \u001b[38;5;28;01mdef\u001b[39;00m \u001b[38;5;21mgenerate_passwords\u001b[39m(number, length):\n",
      "\u001b[1;31mValueError\u001b[0m: invalid literal for int() with base 10: ''"
     ]
    }
   ],
   "source": [
    "from string import ascii_letters, digits\n",
    "from random import sample\n",
    "\n",
    "\n",
    "n, m = int(input()), int(input())\n",
    "generation_field = list((set(ascii_letters).union(digits)).difference(set(\"lIoO01\")))\n",
    "\n",
    "\n",
    "def generate_passwords(number, length):\n",
    "    passwords, count = [], 0\n",
    "    while count != number:\n",
    "        new_letter = \"\".join(sample(generation_field, length))\n",
    "        if new_letter.isalpha() or new_letter.isdigit() or new_letter.islower() or new_letter.isupper():\n",
    "            continue\n",
    "        else:\n",
    "            count += 1\n",
    "            passwords.append(new_letter)\n",
    "\n",
    "    for password in passwords:\n",
    "        print(password)\n",
    "\n",
    "\n",
    "generate_passwords(n, m)"
   ]
  },
  {
   "cell_type": "markdown",
   "metadata": {},
   "source": [
    "## Метод Монте-Карло"
   ]
  },
  {
   "cell_type": "code",
   "execution_count": null,
   "metadata": {},
   "outputs": [
    {
     "name": "stdout",
     "output_type": "stream",
     "text": [
      "0.25\n"
     ]
    }
   ],
   "source": [
    "import random\n",
    "\n",
    "\n",
    "n = 100\n",
    "k = 0\n",
    "s0 = 1\n",
    "for _ in range(n):\n",
    "    x = random.uniform(0, 1)\n",
    "    y = random.uniform(0, 1)\n",
    "    if y <= x**2:\n",
    "        k += 1\n",
    "\n",
    "print((k/n)*s0)"
   ]
  },
  {
   "cell_type": "code",
   "execution_count": null,
   "metadata": {},
   "outputs": [
    {
     "name": "stdout",
     "output_type": "stream",
     "text": [
      "3.14156\n"
     ]
    }
   ],
   "source": [
    "from random import uniform\n",
    "\n",
    "s0 = 4\n",
    "n = 10**6\n",
    "k = 0\n",
    "for _ in range(n):\n",
    "    x = uniform(-1, 1)\n",
    "    y = uniform(-1, 1)\n",
    "    if x**2 + y**2 <= 1:\n",
    "        k += 1\n",
    "\n",
    "print((k/n) * s0)"
   ]
  },
  {
   "cell_type": "markdown",
   "metadata": {},
   "source": [
    "Decimal числа, разделенные символом пробела, хранятся в строковой переменной s. Дополните приведенный код так, чтобы он вывел сумму наибольшего и наименьшего Decimal числа."
   ]
  },
  {
   "cell_type": "code",
   "execution_count": null,
   "metadata": {},
   "outputs": [
    {
     "name": "stdout",
     "output_type": "stream",
     "text": [
      "10.00\n"
     ]
    }
   ],
   "source": [
    "from decimal import Decimal as D\n",
    "s = '0.77 4.03 9.06 3.80 7.08 5.88 0.23 4.65 2.79 0.90 4.23 2.15 3.24 8.57 0.10 8.57 1.49 5.64 3.63 8.36 1.56 6.67 1.46 5.26 4.83 7.23 1.22 1.02 7.82 9.97 5.40 9.79 9.82 2.78 2.96 0.07 1.72 7.24 7.84 9.23 1.71 6.24 5.78 5.37 0.03 9.60 8.86 2.73 5.83 6.50'\n",
    "final_s = [D(num) for num in s.split()]\n",
    "print(max(final_s) + min(final_s))"
   ]
  },
  {
   "cell_type": "markdown",
   "metadata": {},
   "source": [
    "Decimal числа, разделенные символом пробела, хранятся в строковой переменной s. Дополните приведенный код так, чтобы он вывел на первой строке сумму всех чисел, а на второй строке 5 самых больших чисел в порядке убывания, разделенных символом пробела."
   ]
  },
  {
   "cell_type": "code",
   "execution_count": null,
   "metadata": {},
   "outputs": [
    {
     "name": "stdout",
     "output_type": "stream",
     "text": [
      "279.12\n",
      "9.85 9.74 9.73 9.60 9.36 "
     ]
    }
   ],
   "source": [
    "from decimal import Decimal as D\n",
    "s = '9.73 8.84 8.92 9.60 9.32 8.97 8.53 1.26 6.62 9.85 1.85 1.80 0.83 6.75 9.74 9.11 9.14 5.03 5.03 1.34 3.52 8.09 7.89 8.24 8.23 5.22 0.30 2.59 1.25 6.24 2.14 7.54 5.72 2.75 2.32 2.69 9.32 8.11 4.53 0.80 0.08 9.36 5.22 4.08 3.86 5.56 1.43 8.36 6.29 5.13'\n",
    "final_s = [D(num) for num in s.split()]\n",
    "\n",
    "print(sum(final_s))\n",
    "n = 0\n",
    "while n != 5:\n",
    "    print(max(final_s), end=\" \")\n",
    "    final_s.remove(max(final_s))\n",
    "    n += 1\n",
    "\n"
   ]
  },
  {
   "cell_type": "markdown",
   "metadata": {},
   "source": [
    "Дополните приведенный код так, чтобы он вывел сумму наибольшей и наименьшей цифры Decimal числа."
   ]
  },
  {
   "cell_type": "code",
   "execution_count": null,
   "metadata": {},
   "outputs": [
    {
     "name": "stdout",
     "output_type": "stream",
     "text": [
      "9\n"
     ]
    },
    {
     "data": {
      "text/plain": [
       "DecimalTuple(sign=0, digits=(1, 2, 4, 4, 3, 5, 4, 6, 8, 9), exponent=-10)"
      ]
     },
     "execution_count": 28,
     "metadata": {},
     "output_type": "execute_result"
    }
   ],
   "source": [
    "from decimal import Decimal as D\n",
    "num = D(input())\n",
    "if int(num) == 0:\n",
    "    print(max(num.as_tuple()[1]))\n",
    "else:\n",
    "    print(max(num.as_tuple()[1]) + min(num.as_tuple()[1]))\n",
    "num.as_tuple()"
   ]
  },
  {
   "cell_type": "markdown",
   "metadata": {},
   "source": [
    "# Математическое выражение\n",
    "На вход программе подается Decimal число d. Напишите программу, которая вычисляет значение выражения:\n",
    "e^d+ln(d)+lg(d)+sqrt(d)"
   ]
  },
  {
   "cell_type": "code",
   "execution_count": null,
   "metadata": {},
   "outputs": [
    {
     "name": "stdout",
     "output_type": "stream",
     "text": [
      "85.67354357871882344843981289\n"
     ]
    }
   ],
   "source": [
    "from decimal import *\n",
    "d = Decimal(input())\n",
    "print(d.exp() + d.ln() + d.log10() + d.sqrt())"
   ]
  },
  {
   "cell_type": "markdown",
   "metadata": {},
   "source": [
    "Десятичные числа хранятся в списке numbers в виде строк. Дополните приведенный код так, чтобы он для каждого десятичного числа вывел его представление в виде обыкновенной дроби в формате:\n",
    "<ul>\n",
    "<li>десятичное число = обыкновенная дробь</li>\n",
    "</ul>"
   ]
  },
  {
   "cell_type": "code",
   "execution_count": null,
   "metadata": {},
   "outputs": [],
   "source": [
    "from fractions import Fraction as F\n",
    "\n",
    "numbers = ['6.34', '4.08', '3.04', '7.49', '4.45', '5.39', '7.82', '2.76', '0.71', '1.97', '2.54', '3.67', '0.14', '4.29', '1.84', '4.07', '7.26', '9.37', '8.11', '4.30', '7.16', '2.46', '1.27', '0.29', '5.12', '4.02', '6.95', '1.62', '2.26', '0.45', '6.91', '7.39', '0.52', '1.88', '8.38', '0.75', '0.32', '4.81', '3.31', '4.63', '7.84', '2.25', '1.10', '3.35', '2.05', '7.87', '2.40', '1.20', '2.58', '2.46']\n",
    "\n",
    "fractions = [F(num) for num in numbers]\n",
    "for i in range(len(numbers)):\n",
    "    print(f\"{numbers[i]} = {fractions[i]}\")"
   ]
  },
  {
   "cell_type": "markdown",
   "metadata": {},
   "source": [
    "Десятичные числа, разделенные символом пробела, хранятся в строковой переменной s. Дополните приведенный код так, чтобы он вывел сумму наибольшего и наименьшего числа в виде обыкновенной дроби."
   ]
  },
  {
   "cell_type": "code",
   "execution_count": null,
   "metadata": {},
   "outputs": [
    {
     "name": "stdout",
     "output_type": "stream",
     "text": [
      "997021/100000\n"
     ]
    }
   ],
   "source": [
    "from fractions import Fraction\n",
    "s = '0.78 4.3 9.6 3.88 7.08 5.88 0.23 4.65 2.79 0.90 4.23 2.15 3.24 8.57 0.10 8.57 1.49 5.64 3.63 8.36 1.56 6.67 1.46 5.26 4.83 7.13 1.22 1.02 7.82 9.97 5.40 9.79 9.82 2.78 2.96 0.07 1.72 7.24 7.84 9.23 1.71 6.24 5.78 5.37 0.03 9.60 8.86 2.73 5.83 6.50 0.123 0.00021'\n",
    "fract = [Fraction(num) for num in s.split()]\n",
    "print(max(fract) + min(fract))"
   ]
  },
  {
   "cell_type": "markdown",
   "metadata": {},
   "source": [
    "# Сократите дробь\n",
    "Даны два натуральных числа *m* и *n*. Напишите программу, которая сокращает дробь m/n и выводит ее.\n",
    "\n",
    "### Формат входных данных\n",
    "На вход программе подаются два натуральных числа, числитель и знаменатель дроби, каждое на отдельной строке.\n",
    "\n",
    "### Формат выходных данных\n",
    "Программа должна вывести ответ на задачу."
   ]
  },
  {
   "cell_type": "code",
   "execution_count": null,
   "metadata": {},
   "outputs": [
    {
     "name": "stdout",
     "output_type": "stream",
     "text": [
      "1/2\n"
     ]
    }
   ],
   "source": [
    "from fractions import Fraction as F\n",
    "\n",
    "m, n = F(int(input())), F(int(input()))\n",
    "print(m/n)"
   ]
  },
  {
   "cell_type": "markdown",
   "metadata": {},
   "source": [
    "# Операции над дробями\n",
    "Даны две дроби в формате a/b. Напишите программу, которая вычисляет и выводит их сумму, разность, произведение и частное.\n",
    "\n",
    "### Формат входных данных\n",
    "На вход программе подаются две ненулевые дроби, каждая на отдельной строке.\n",
    "\n",
    "### Формат выходных данных\n",
    "Программа должна вывести сумму, разность, произведение и частное двух дробей.\n",
    "\n",
    "### Примечание. \n",
    "Обратите внимание на третий тест: исходные дроби сокращать не нужно, а результат нужно."
   ]
  },
  {
   "cell_type": "code",
   "execution_count": null,
   "metadata": {},
   "outputs": [
    {
     "name": "stdout",
     "output_type": "stream",
     "text": [
      "5/10 + 10/5 = 5/2\n",
      "5/10 - 10/5 = -3/2\n",
      "5/10 * 10/5 = 1\n",
      "5/10 / 10/5 = 1/4\n"
     ]
    }
   ],
   "source": [
    "from fractions import Fraction as F\n",
    "\n",
    "fraction1 = input()\n",
    "fraction2 = input()\n",
    "print(f\"{fraction1} + {fraction2} = {F(fraction1)+F(fraction2)}\")\n",
    "print(f\"{fraction1} - {fraction2} = {F(fraction1)-F(fraction2)}\")\n",
    "print(f\"{fraction1} * {fraction2} = {F(fraction1)*F(fraction2)}\")\n",
    "print(f\"{fraction1} / {fraction2} = {F(fraction1)/F(fraction2)}\")"
   ]
  },
  {
   "cell_type": "markdown",
   "metadata": {},
   "source": [
    "# Сумма дробей 1\n",
    "На вход программе подается натуральное число *n*. Напишите программу, которая вычисляет и выводит рациональное число, равное значению выражения:\n",
    "1/1^2+1/2^2 + ... + 1/n^2\n",
    "## Формат входных данных\n",
    "На вход программе подается натуральное число *n*.\n",
    "\n",
    "## Формат выходных данных\n",
    "Программа должна вывести ответ на задачу.\n",
    "\n",
    "### Примечание 1\n",
    "Результирующая дробь должна быть несократимой."
   ]
  },
  {
   "cell_type": "code",
   "execution_count": null,
   "metadata": {},
   "outputs": [
    {
     "name": "stdout",
     "output_type": "stream",
     "text": [
      "1\n"
     ]
    }
   ],
   "source": [
    "from fractions import Fraction as F\n",
    "\n",
    "n = int(input())\n",
    "fract = [F(1, i**2) for i in range(1, n+1)]\n",
    "print(sum(fract))\n"
   ]
  },
  {
   "cell_type": "markdown",
   "metadata": {},
   "source": [
    "# Сумма дробей 2\n",
    "На вход программе подается натуральное число *n*. Напишите программу, которая вычисляет и выводит рациональное число, равное значению выражения:\n",
    "1/1! + 1/2! + ... + 1/n!\n",
    "\n",
    "### Формат входных данных\n",
    "На вход программе подается натуральное число *n*.\n",
    "\n",
    "### Формат выходных данных\n",
    "Программа должна вывести ответ на задачу.\n",
    "\n",
    "### Примечание 1. \n",
    "Результирующая дробь должна быть несократимой.\n",
    "\n",
    "### Примечание 2. \n",
    "Для вычисления факториала можно использовать функцию *factorial* из модуля *math*."
   ]
  },
  {
   "cell_type": "code",
   "execution_count": null,
   "metadata": {},
   "outputs": [
    {
     "data": {
      "text/plain": [
       "Fraction(103, 60)"
      ]
     },
     "execution_count": 41,
     "metadata": {},
     "output_type": "execute_result"
    }
   ],
   "source": [
    "from fractions import Fraction as F\n",
    "from math import factorial\n",
    "\n",
    "n = int(input())\n",
    "fracts = [F(1, factorial(i)) for i in range(1, n+1)]\n",
    "sum(fracts)"
   ]
  },
  {
   "cell_type": "markdown",
   "metadata": {},
   "source": [
    "# Юный математик 🤓🌶️\n",
    "Дима учится в седьмом классе и сейчас они проходят обыкновенные дроби с натуральными числителем и знаменателем. Вчера на уроке математики Дима узнал, что дробь называется правильной, если ее числитель меньше знаменателя, или несократимой, если нет равной ей дроби с меньшими натуральными числителем и знаменателем.\n",
    "\n",
    "Дима очень любит математику, поэтому дома он долго экспериментировал, придумывая и решая разные задачки с правильными несократимыми дробями. Одну из этих задач Дима предлагает решить вам с помощью компьютера.\n",
    "\n",
    "На вход программе подается натуральное число *n*. Напишите программу, которая находит наибольшую правильную несократимую дробь с суммой числителя и знаменателя, равной *n*.\n",
    "\n",
    "### Формат входных данных\n",
    "На вход программе подается натуральное число *n*.\n",
    "\n",
    "### Формат выходных данных\n",
    "Программа должна вывести ответ на задачу.\n",
    "\n",
    "### Примечание. \n",
    "Возможно, вам потребуется функция *gcd()*, которая позволяет находить наибольший общий делитель (НОД) двух чисел. Функция реализована в модуле *math*."
   ]
  },
  {
   "cell_type": "code",
   "execution_count": null,
   "metadata": {},
   "outputs": [
    {
     "name": "stdout",
     "output_type": "stream",
     "text": [
      "11/12\n"
     ]
    }
   ],
   "source": [
    "from fractions import Fraction as F\n",
    "from math import gcd\n",
    "\n",
    "n = int(input())\n",
    "max_fraction = F(0, 1)\n",
    "for a in range (1, n//2+1):\n",
    "    b = n - a\n",
    "    if a < b and gcd(a, b) == 1:\n",
    "        current_fraction = F(a, b)\n",
    "        if current_fraction > max_fraction:\n",
    "            max_fraction = current_fraction\n",
    "    else:\n",
    "        continue\n",
    "\n",
    "print(max_fraction)\n"
   ]
  },
  {
   "cell_type": "markdown",
   "metadata": {},
   "source": [
    "# Упорядоченные дроби\n",
    "На вход программе подается натуральное число *n*. Напишите программу, которая выводит в порядке возрастания все несократимые дроби, заключенные между 0 и 1, знаменатель которых не превосходит *n*.\n",
    "\n",
    "### Формат входных данных\n",
    "На вход программе подается натуральное число *n*\n",
    "(n>1).\n",
    "\n",
    "### Формат выходных данных\n",
    "Программа должна вывести искомые дроби, каждую на отдельной строке.\n",
    "\n",
    "### Примечание. \n",
    "Возможно вам потребуется функция *gcd()*, которая позволяет находить наибольший общий делитель (НОД) двух чисел. Функция реализована в модуле *math*."
   ]
  },
  {
   "cell_type": "code",
   "execution_count": null,
   "metadata": {},
   "outputs": [
    {
     "name": "stdout",
     "output_type": "stream",
     "text": [
      "1/5\n",
      "1/4\n",
      "1/3\n",
      "2/5\n",
      "1/2\n",
      "3/5\n",
      "2/3\n",
      "3/4\n",
      "4/5\n"
     ]
    }
   ],
   "source": [
    "from fractions import Fraction as F\n",
    "from math import gcd\n",
    "\n",
    "\n",
    "n = int(input())\n",
    "fracts = []\n",
    "for i in range (1, n+1):\n",
    "    for j in range (1, n+1):\n",
    "        if gcd(i, j) == 1 and i < j:\n",
    "            fracts.append(F(i, j))\n",
    "fracts.sort()\n",
    "print(*fracts, sep=\"\\n\")"
   ]
  },
  {
   "cell_type": "markdown",
   "metadata": {},
   "source": [
    "# Операции над комплексными числами\n",
    "Даны два комплексных числа. Напишите программу, которая вычисляет и выводит их сумму, разность и произведение.\n",
    "\n",
    "### Формат входных данных\n",
    "На вход программе подаются два комплексных числа, каждое на отдельной строке.\n",
    "\n",
    "### Формат выходных данных\n",
    "Программа должна вывести ответ на задачу."
   ]
  },
  {
   "cell_type": "code",
   "execution_count": null,
   "metadata": {},
   "outputs": [
    {
     "name": "stdout",
     "output_type": "stream",
     "text": [
      "(1+2j) + (-2+4j) = (-1+6j)\n",
      "(1+2j) - (-2+4j) = (3-2j)\n",
      "(1+2j) * (-2+4j) = (-10+0j)\n"
     ]
    }
   ],
   "source": [
    "n, m = complex(input()), complex(input())\n",
    "print(f\"{n} + {m} = {n+m}\")\n",
    "print(f\"{n} - {m} = {n-m}\")\n",
    "print(f\"{n.conjugate()} * {m.conjugate()} = {(n*m).conjugate()}\")"
   ]
  },
  {
   "cell_type": "markdown",
   "metadata": {},
   "source": [
    "Комплексные числа хранятся в списке numbers. Дополните приведенный код так, чтобы он вывел комплексное число с наибольшим модулем и сам модуль числа на отдельных строках.\n",
    "\n",
    "Примечание. Модуль комплексного числа можно вычислить с помощью встроенной функции abs()."
   ]
  },
  {
   "cell_type": "code",
   "execution_count": null,
   "metadata": {},
   "outputs": [
    {
     "name": "stdout",
     "output_type": "stream",
     "text": [
      "(-20+15j)\n",
      "25.0\n"
     ]
    }
   ],
   "source": [
    "numbers = [3 + 4j, 3 + 1j, -7 + 3j, 4 + 8j, -8 + 10j, -3 + 2j, 3 - 2j, -9 + 9j, -1 - 1j, -1 - 10j, -20 + 15j, -21 + 1j, 1j, -3 + 8j, 4 - 6j, 8 + 2j, 2 + 3j]\n",
    "answer = 0\n",
    "for number in numbers:\n",
    "    if abs(number) > answer:\n",
    "        answer = abs(number)\n",
    "for number in numbers:\n",
    "    if abs(number) == answer:\n",
    "        print(number, answer, sep=\"\\n\")"
   ]
  },
  {
   "cell_type": "markdown",
   "metadata": {},
   "source": [
    "## Сопряженные числа\n",
    "Даны натуральное число *n* и два комплексных числа *z1*,z2. Напишите программу, которая вычисляет и выводит значение выражения:\n",
    "\n",
    "*z1^n + z2^n + z1-^n + z2-^(n-1)\n",
    "\n",
    "### Формат входных данных\n",
    "На вход программе подаются натуральное число *n* и два комплексных числа *z1* и *z2*, каждое на отдельной строке.\n",
    "\n",
    "### Формат выходных данных\n",
    "Программа должна вывести ответ на задачу.\n",
    "\n",
    "### Примечание\n",
    "Числа *z1-* и *z2-* являются сопряженными к числам *z1* и *z2*."
   ]
  },
  {
   "cell_type": "code",
   "execution_count": null,
   "metadata": {},
   "outputs": [
    {
     "name": "stdout",
     "output_type": "stream",
     "text": [
      "(-10-4j)\n"
     ]
    }
   ],
   "source": [
    "n = int(input())\n",
    "z1, z2 = complex(input()), complex(input())\n",
    "print(z1**n + z2**n + z1.conjugate()**n + z2.conjugate()**(n+1))"
   ]
  },
  {
   "cell_type": "markdown",
   "metadata": {},
   "source": [
    "Напишите функцию matrix(), которая создает, заполняет и возвращает матрицу заданного размера. При этом (в зависимости от переданных аргументов) она должна вести себя так:\n",
    "- *matrix()* — возвращает матрицу 1×1, в которой единственное число равно нулю;\n",
    "- *matrix(n)* — возвращает матрицу *n×n*, заполненную нулями;\n",
    "- *matrix(n, m)* — возвращает матрицу из *n* строк и *m* столбцов, заполненную нулями;\n",
    "- *matrix(n, m, value)* — возвращает матрицу из *n* строк и *m* столбцов, в которой каждый элемент равен числу *value*.\n",
    "\n",
    "При создании функции пользуйтесь аргументами по умолчанию."
   ]
  },
  {
   "cell_type": "code",
   "execution_count": null,
   "metadata": {},
   "outputs": [
    {
     "data": {
      "text/plain": [
       "[[0, 0, 0], [0, 0, 0], [0, 0, 0]]"
      ]
     },
     "execution_count": 23,
     "metadata": {},
     "output_type": "execute_result"
    }
   ],
   "source": [
    "\n",
    "def matrix(n:int=1, m = None, value:int=0) -> list[int]:\n",
    "    if m is None:\n",
    "        m = n\n",
    "    matrix = [[value for _ in range(m)] for _ in range (n)]\n",
    "    return matrix\n",
    "\n",
    "matrix(3)\n"
   ]
  },
  {
   "cell_type": "markdown",
   "metadata": {},
   "source": [
    "Напишите функцию *count_args()*, которая принимает произвольное количество аргументов и возвращает количество переданных в нее аргументов.\n",
    "\n",
    "**Примечание 1.** Обратите внимание, что функция должна принимать не список, а именно произвольное количество аргументов."
   ]
  },
  {
   "cell_type": "code",
   "execution_count": null,
   "metadata": {},
   "outputs": [
    {
     "name": "stdout",
     "output_type": "stream",
     "text": [
      "0\n",
      "1\n",
      "2\n",
      "5\n"
     ]
    }
   ],
   "source": [
    "def count_args(*args) -> int:\n",
    "    return len(args)\n"
   ]
  },
  {
   "cell_type": "markdown",
   "metadata": {},
   "source": [
    "Напишите функцию *sq_sum(*), которая принимает произвольное количество числовых аргументов и возвращает сумму их квадратов.\n",
    "\n",
    "**Примечание 1.** Обратите внимание, что функция должна принимать не список, а именно произвольное количество аргументов."
   ]
  },
  {
   "cell_type": "code",
   "execution_count": null,
   "metadata": {},
   "outputs": [
    {
     "name": "stdout",
     "output_type": "stream",
     "text": [
      "0\n",
      "4\n",
      "8.5\n",
      "14\n",
      "385\n"
     ]
    }
   ],
   "source": [
    "def sq_sum(*args) -> float:\n",
    "    lst = [arg**2 for arg in args]\n",
    "    return sum(lst)\n",
    "\n",
    "print(sq_sum())\n",
    "print(sq_sum(2))\n",
    "print(sq_sum(1.5, 2.5))\n",
    "print(sq_sum(1, 2, 3))\n",
    "print(sq_sum(1, 2, 3, 4, 5, 6, 7, 8, 9, 10))"
   ]
  },
  {
   "cell_type": "markdown",
   "metadata": {},
   "source": [
    "Напишите функцию *mean()*, которая принимает произвольное количество аргументов и возвращает среднее арифметическое переданных в нее числовых *(int или float)* аргументов.\n",
    "\n",
    "**Примечание 1.** Обратите внимание, что функция должна принимать не список, а именно произвольное количество аргументов.\n",
    "\n",
    "**Примечание 2.** Функция должна игнорировать аргументы всех типов, кроме *int* или *float.*"
   ]
  },
  {
   "cell_type": "code",
   "execution_count": null,
   "metadata": {},
   "outputs": [
    {
     "name": "stdout",
     "output_type": "stream",
     "text": [
      "0.0\n",
      "7.0\n",
      "2.0\n",
      "0.0\n",
      "3.5\n",
      "5.5\n"
     ]
    }
   ],
   "source": [
    "def mean(*args) -> float:\n",
    "    only_int_or_float = [arg for arg in args if type(arg) in (int, float)]\n",
    "    return sum(only_int_or_float) / len(only_int_or_float) if len(only_int_or_float) !=0 else 0.0\n",
    "\n",
    "print(mean())\n",
    "print(mean(7))\n",
    "print(mean(1.5, True, ['stepik'], 'beegeek', 2.5, (1, 2)))\n",
    "print(mean(True, ['stepik'], 'beegeek', (1, 2)))\n",
    "print(mean(-1, 2, 3, 10, ('5')))\n",
    "print(mean(1, 2, 3, 4, 5, 6, 7, 8, 9, 10))\n"
   ]
  },
  {
   "cell_type": "markdown",
   "metadata": {},
   "source": [
    "Дан список *numbers*, содержащий кортежи чисел. Напишите программу, которая с помощью встроенных функций *min()* и *max()* выводит те кортежи (каждый на отдельной строке), которые имеют минимальное и максимальное среднее арифметическое значение элементов.\n",
    "\n",
    "**Примечание**. Используйте необязательный аргумент key."
   ]
  },
  {
   "cell_type": "code",
   "execution_count": null,
   "metadata": {},
   "outputs": [
    {
     "name": "stdout",
     "output_type": "stream",
     "text": [
      "(-9, 8, 4)\n",
      "(81, 39)\n"
     ]
    }
   ],
   "source": [
    "numbers = [(10, 10, 10), (30, 45, 56), (81, 39), (1, 2, 3), (12,), (-2, -4, 100), (1, 2, 99), (89, 9, 34), (10, 20, 30, -2), (50, 40, 50), (34, 78, 65), (-5, 90, -1, -5), (1, 2, 3, 4, 5, 6), (-9, 8, 4), (90, 1, -45, -21)]\n",
    "def mean(x):\n",
    "    return sum(x)/len(x)\n",
    "print(min(numbers, key=mean), max(numbers, key=mean), sep=\"\\n\")"
   ]
  },
  {
   "cell_type": "code",
   "execution_count": null,
   "metadata": {},
   "outputs": [
    {
     "name": "stdout",
     "output_type": "stream",
     "text": [
      "Рустам 10 128 30\n",
      "Руслан 9 140 33\n",
      "Дима 10 130 35\n",
      "Тимур 11 135 39\n",
      "Матвей 17 168 68\n",
      "Амир 16 170 70\n",
      "Петя 15 190 90\n",
      "Рома 16 188 100\n"
     ]
    }
   ],
   "source": [
    "athletes = [('Дима', 10, 130, 35), ('Тимур', 11, 135, 39), ('Руслан', 9, 140, 33), ('Рустам', 10, 128, 30), ('Амир', 16, 170, 70), ('Рома', 16, 188, 100), ('Матвей', 17, 168, 68), ('Петя', 15, 190, 90)]\n",
    "number = int(input())\n",
    "\n",
    "def get_sorted_by_name(args):\n",
    "    return args[0]\n",
    "def get_sorted_by_age(args):\n",
    "    return args[1]\n",
    "def get_sorted_by_height(args):\n",
    "    return args[2]\n",
    "def get_sorted_by_weight(args):\n",
    "    return args[3]\n",
    "\n",
    "sorting = {1:get_sorted_by_name, 2: get_sorted_by_age, 3: get_sorted_by_height, 4: get_sorted_by_weight}\n",
    "\n",
    "list = sorted(athletes, key=sorting[number])\n",
    "\n",
    "for tuple in list:\n",
    "    print(*tuple)"
   ]
  },
  {
   "cell_type": "markdown",
   "metadata": {},
   "source": [
    "## Математические функции\n",
    "Напишите программу, которая принимает число и название функции, а выводит результат применения функции к данному числу.\n",
    "\n",
    "Список возможных функций:\n",
    "\n",
    "- квадрат: функция принимает число и возвращает его квадрат;\n",
    "- куб: функция принимает число и возвращает его куб;\n",
    "- корень: функция принимает число и возвращает корень квадратный из этого числа;\n",
    "- модуль: функция принимает число и возвращает его модуль;\n",
    "- синус: функция принимает число (в радианах) и возвращает синус этого числа.\n",
    "### Формат входных данных\n",
    "На вход программе подается целое число и название функции, записанные на отдельных строках.\n",
    "\n",
    "### Формат выходных данных\n",
    "Программа должна выдать результат применения функции к числу.\n",
    "\n",
    "**Примечание**. Решите задачу **без** использования условного оператора."
   ]
  },
  {
   "cell_type": "code",
   "execution_count": null,
   "metadata": {},
   "outputs": [
    {
     "name": "stdout",
     "output_type": "stream",
     "text": [
      "25\n"
     ]
    }
   ],
   "source": [
    "from math import sin\n",
    "\n",
    "\n",
    "def square(number: int) -> int:\n",
    "    return number**2\n",
    "\n",
    "def cube(number: int) -> int:\n",
    "    return number**3\n",
    "\n",
    "def root(number: int) -> float:\n",
    "    return number**0.5\n",
    "\n",
    "def module(number: int) -> int:\n",
    "    return abs(number)\n",
    "\n",
    "def sine(number: int) -> float:\n",
    "    return sin(number)\n",
    "\n",
    "functions_to_use = {\n",
    "    \"квадрат\": square, \"куб\": cube, \"корень\":root,\n",
    "    \"модуль\":module, \"синус\": sine\n",
    "    }\n",
    "\n",
    "def main(number: int, function: str) -> int|float:\n",
    "    return functions_to_use[function](number)\n",
    "\n",
    "number = int(input())\n",
    "function = input()\n",
    "print(main(number, function))"
   ]
  },
  {
   "cell_type": "markdown",
   "metadata": {},
   "source": [
    "# Интересная сортировка-1\n",
    "На вход программе подается строка натуральных чисел. Из элементов строки формируется список чисел.\n",
    "\n",
    "Напишите программу сортировки списка чисел в порядке **неубывания суммы их цифр**. При этом, если два числа имеют одинаковую сумму цифр, следует сохранить их взаиморасположение в начальном списке.\n",
    "\n",
    "## Формат входных данных\n",
    "На вход программе подается строка текста, содержащая натуральные числа, разделенные пробелами.\n",
    "\n",
    "## Формат выходных данных\n",
    "Программа должна вывести отсортированный список чисел в соответствии с условием задачи, разделяя его элементы одним пробелом."
   ]
  },
  {
   "cell_type": "code",
   "execution_count": null,
   "metadata": {},
   "outputs": [
    {
     "name": "stdout",
     "output_type": "stream",
     "text": [
      "12 111 4 14 123 7 45 90 79\n"
     ]
    }
   ],
   "source": [
    "numbers = [int(num) for num in input().split()]\n",
    "def sum_digits(number: int) -> int:\n",
    "    digits = [int(num) for num in str(number)]\n",
    "    return sum(digits)\n",
    "print(*sorted(numbers, key=sum_digits))"
   ]
  },
  {
   "cell_type": "markdown",
   "metadata": {},
   "source": [
    "# Интересная сортировка-2\n",
    "На вход программе подается строка натуральных чисел. Из элементов строки формируется список чисел.\n",
    "\n",
    "Напишите программу сортировки списка чисел в порядке **неубывания суммы их цифр**. При этом, если у двух чисел одинаковая сумма цифр, их следует вывести в порядке неубывания.\n",
    "\n",
    "## Формат входных данных\n",
    "На вход программе подается строка текста, содержащая натуральные числа, разделенные пробелами.\n",
    "\n",
    "## Формат выходных данных\n",
    "Программа должна вывести отсортированный список чисел в соответствии с условием задачи, разделяя его элементы одним пробелом."
   ]
  },
  {
   "cell_type": "code",
   "execution_count": null,
   "metadata": {},
   "outputs": [
    {
     "name": "stdout",
     "output_type": "stream",
     "text": [
      "[12, 111, 4, 14, 123, 7, 45, 90, 171, 79]\n"
     ]
    }
   ],
   "source": [
    "numbers = [int(num) for num in input().split()]\n",
    "numbers.sort()\n",
    "def sum_digits(number: int) -> int:\n",
    "    digits = [int(num) for num in str(number)]\n",
    "    return sum(digits)\n",
    "new_list = sorted(numbers, key=sum_digits)\n",
    "print(*new_list)"
   ]
  }
 ],
 "metadata": {
  "kernelspec": {
   "display_name": "env_for_stepik",
   "language": "python",
   "name": "python3"
  },
  "language_info": {
   "codemirror_mode": {
    "name": "ipython",
    "version": 3
   },
   "file_extension": ".py",
   "mimetype": "text/x-python",
   "name": "python",
   "nbconvert_exporter": "python",
   "pygments_lexer": "ipython3",
   "version": "3.12.10"
  }
 },
 "nbformat": 4,
 "nbformat_minor": 2
}
